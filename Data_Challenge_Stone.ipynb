{
  "nbformat": 4,
  "nbformat_minor": 0,
  "metadata": {
    "colab": {
      "name": "Data Challenge - Stone.ipynb",
      "provenance": [],
      "collapsed_sections": [],
      "toc_visible": true
    },
    "kernelspec": {
      "name": "python3",
      "display_name": "Python 3"
    },
    "language_info": {
      "name": "python"
    }
  },
  "cells": [
    {
      "cell_type": "markdown",
      "metadata": {
        "id": "sjOJj64LPNTP"
      },
      "source": [
        "# Data Challenge Stonne - Previsão de inadimplência"
      ]
    },
    {
      "cell_type": "markdown",
      "metadata": {
        "id": "5f5I_j23PPK2"
      },
      "source": [
        "O objetivo desse notebook é estimar a probabilidade de um cliente não quitar um empréstimo antes do vencimento, e para gerar valor para o negócioo, queremos saber a probabilidade de default 90 dias após o desembolso do emprestimo."
      ]
    },
    {
      "cell_type": "markdown",
      "metadata": {
        "id": "S1HMuB9khj98"
      },
      "source": [
        "> Requisitos"
      ]
    },
    {
      "cell_type": "code",
      "metadata": {
        "colab": {
          "base_uri": "https://localhost:8080/"
        },
        "id": "Lj0Pm51yR99W",
        "outputId": "f3308fda-ae6c-4ec5-a347-36dcccfb7cf4"
      },
      "source": [
        "!pip install shap"
      ],
      "execution_count": 82,
      "outputs": [
        {
          "output_type": "stream",
          "text": [
            "Requirement already satisfied: shap in /usr/local/lib/python3.7/dist-packages (0.39.0)\n",
            "Requirement already satisfied: tqdm>4.25.0 in /usr/local/lib/python3.7/dist-packages (from shap) (4.41.1)\n",
            "Requirement already satisfied: scipy in /usr/local/lib/python3.7/dist-packages (from shap) (1.4.1)\n",
            "Requirement already satisfied: pandas in /usr/local/lib/python3.7/dist-packages (from shap) (1.1.5)\n",
            "Requirement already satisfied: slicer==0.0.7 in /usr/local/lib/python3.7/dist-packages (from shap) (0.0.7)\n",
            "Requirement already satisfied: cloudpickle in /usr/local/lib/python3.7/dist-packages (from shap) (1.3.0)\n",
            "Requirement already satisfied: scikit-learn in /usr/local/lib/python3.7/dist-packages (from shap) (0.22.2.post1)\n",
            "Requirement already satisfied: numpy in /usr/local/lib/python3.7/dist-packages (from shap) (1.19.5)\n",
            "Requirement already satisfied: numba in /usr/local/lib/python3.7/dist-packages (from shap) (0.51.2)\n",
            "Requirement already satisfied: python-dateutil>=2.7.3 in /usr/local/lib/python3.7/dist-packages (from pandas->shap) (2.8.1)\n",
            "Requirement already satisfied: pytz>=2017.2 in /usr/local/lib/python3.7/dist-packages (from pandas->shap) (2018.9)\n",
            "Requirement already satisfied: joblib>=0.11 in /usr/local/lib/python3.7/dist-packages (from scikit-learn->shap) (1.0.1)\n",
            "Requirement already satisfied: llvmlite<0.35,>=0.34.0.dev0 in /usr/local/lib/python3.7/dist-packages (from numba->shap) (0.34.0)\n",
            "Requirement already satisfied: setuptools in /usr/local/lib/python3.7/dist-packages (from numba->shap) (54.2.0)\n",
            "Requirement already satisfied: six>=1.5 in /usr/local/lib/python3.7/dist-packages (from python-dateutil>=2.7.3->pandas->shap) (1.15.0)\n"
          ],
          "name": "stdout"
        }
      ]
    },
    {
      "cell_type": "code",
      "metadata": {
        "id": "_JGc7S7iRibl"
      },
      "source": [
        "import pandas as pd\n",
        "import numpy as np\n",
        "import matplotlib.pyplot as plt\n",
        "import seaborn as sns\n",
        "\n",
        "import shap\n",
        "from sklearn.metrics import recall_score, roc_auc_score\n",
        "from sklearn.linear_model import LogisticRegression\n",
        "from sklearn.ensemble import RandomForestClassifier\n",
        "from xgboost import XGBClassifier\n",
        "from sklearn.model_selection import StratifiedKFold, cross_val_score, RandomizedSearchCV\n",
        "from sklearn.preprocessing import StandardScaler\n",
        "from sklearn.pipeline import Pipeline\n",
        "\n",
        "from datetime import datetime\n",
        "\n",
        "%matplotlib inline\n",
        "sns.set()"
      ],
      "execution_count": 83,
      "outputs": []
    },
    {
      "cell_type": "code",
      "metadata": {
        "id": "9xJV6cAvSPcu"
      },
      "source": [
        "# Le o arquivo\n",
        "path = '/content/drive/MyDrive/Ciência de Dados - Previsão de Inadimplência (Default)/dados_case_ds1-default/dados_case_ds1'\n",
        "\n",
        "train_path = path + '/train.parquet'\n",
        "test_path = path + '/test.parquet'\n",
        "\n",
        "dataset = pd.read_parquet(train_path)"
      ],
      "execution_count": 84,
      "outputs": []
    },
    {
      "cell_type": "code",
      "metadata": {
        "colab": {
          "base_uri": "https://localhost:8080/"
        },
        "id": "QWwFCC7XS1N5",
        "outputId": "f0e94439-4241-4818-90e9-c091d8576bfe"
      },
      "source": [
        "dataset.info()"
      ],
      "execution_count": 85,
      "outputs": [
        {
          "output_type": "stream",
          "text": [
            "<class 'pandas.core.frame.DataFrame'>\n",
            "Int64Index: 2889113 entries, 3281 to 29337019\n",
            "Data columns (total 14 columns):\n",
            " #   Column                        Dtype         \n",
            "---  ------                        -----         \n",
            " 0   id                            float64       \n",
            " 1   desembolso                    datetime64[ns]\n",
            " 2   vencimento                    datetime64[ns]\n",
            " 3   valor_emprestado              float64       \n",
            " 4   pgto_diario_esperado          float64       \n",
            " 5   dia                           datetime64[ns]\n",
            " 6   dias_pos_desembolso           float64       \n",
            " 7   divida_total                  float64       \n",
            " 8   divida_principal              float64       \n",
            " 9   pagamento_diario              float64       \n",
            " 10  amortizacao_principal_diario  float64       \n",
            " 11  transacionado                 float64       \n",
            " 12  subsegmento                   object        \n",
            " 13  y                             float64       \n",
            "dtypes: datetime64[ns](3), float64(10), object(1)\n",
            "memory usage: 330.6+ MB\n"
          ],
          "name": "stdout"
        }
      ]
    },
    {
      "cell_type": "code",
      "metadata": {
        "colab": {
          "base_uri": "https://localhost:8080/",
          "height": 309
        },
        "id": "TGBlkzd4S-qO",
        "outputId": "2053ec10-a4ca-4254-d928-23407ac86be4"
      },
      "source": [
        "dataset.head()"
      ],
      "execution_count": 86,
      "outputs": [
        {
          "output_type": "execute_result",
          "data": {
            "text/html": [
              "<div>\n",
              "<style scoped>\n",
              "    .dataframe tbody tr th:only-of-type {\n",
              "        vertical-align: middle;\n",
              "    }\n",
              "\n",
              "    .dataframe tbody tr th {\n",
              "        vertical-align: top;\n",
              "    }\n",
              "\n",
              "    .dataframe thead th {\n",
              "        text-align: right;\n",
              "    }\n",
              "</style>\n",
              "<table border=\"1\" class=\"dataframe\">\n",
              "  <thead>\n",
              "    <tr style=\"text-align: right;\">\n",
              "      <th></th>\n",
              "      <th>id</th>\n",
              "      <th>desembolso</th>\n",
              "      <th>vencimento</th>\n",
              "      <th>valor_emprestado</th>\n",
              "      <th>pgto_diario_esperado</th>\n",
              "      <th>dia</th>\n",
              "      <th>dias_pos_desembolso</th>\n",
              "      <th>divida_total</th>\n",
              "      <th>divida_principal</th>\n",
              "      <th>pagamento_diario</th>\n",
              "      <th>amortizacao_principal_diario</th>\n",
              "      <th>transacionado</th>\n",
              "      <th>subsegmento</th>\n",
              "      <th>y</th>\n",
              "    </tr>\n",
              "  </thead>\n",
              "  <tbody>\n",
              "    <tr>\n",
              "      <th>3281</th>\n",
              "      <td>6.0</td>\n",
              "      <td>2019-03-25</td>\n",
              "      <td>2019-12-26</td>\n",
              "      <td>7100.0</td>\n",
              "      <td>33.7107</td>\n",
              "      <td>2019-03-25</td>\n",
              "      <td>0.0</td>\n",
              "      <td>7197.98</td>\n",
              "      <td>7100.0</td>\n",
              "      <td>0.00</td>\n",
              "      <td>0.0</td>\n",
              "      <td>664.0</td>\n",
              "      <td>None</td>\n",
              "      <td>0.0</td>\n",
              "    </tr>\n",
              "    <tr>\n",
              "      <th>3282</th>\n",
              "      <td>6.0</td>\n",
              "      <td>2019-03-25</td>\n",
              "      <td>2019-12-26</td>\n",
              "      <td>7100.0</td>\n",
              "      <td>33.8852</td>\n",
              "      <td>2019-03-26</td>\n",
              "      <td>1.0</td>\n",
              "      <td>7212.25</td>\n",
              "      <td>7100.0</td>\n",
              "      <td>0.00</td>\n",
              "      <td>0.0</td>\n",
              "      <td>0.0</td>\n",
              "      <td>None</td>\n",
              "      <td>0.0</td>\n",
              "    </tr>\n",
              "    <tr>\n",
              "      <th>3283</th>\n",
              "      <td>6.0</td>\n",
              "      <td>2019-03-25</td>\n",
              "      <td>2019-12-26</td>\n",
              "      <td>7100.0</td>\n",
              "      <td>33.8852</td>\n",
              "      <td>2019-03-27</td>\n",
              "      <td>2.0</td>\n",
              "      <td>7226.54</td>\n",
              "      <td>7100.0</td>\n",
              "      <td>0.00</td>\n",
              "      <td>0.0</td>\n",
              "      <td>150.0</td>\n",
              "      <td>None</td>\n",
              "      <td>0.0</td>\n",
              "    </tr>\n",
              "    <tr>\n",
              "      <th>3284</th>\n",
              "      <td>6.0</td>\n",
              "      <td>2019-03-25</td>\n",
              "      <td>2019-12-26</td>\n",
              "      <td>7100.0</td>\n",
              "      <td>33.8852</td>\n",
              "      <td>2019-03-28</td>\n",
              "      <td>3.0</td>\n",
              "      <td>7207.22</td>\n",
              "      <td>7100.0</td>\n",
              "      <td>33.64</td>\n",
              "      <td>0.0</td>\n",
              "      <td>0.0</td>\n",
              "      <td>None</td>\n",
              "      <td>0.0</td>\n",
              "    </tr>\n",
              "    <tr>\n",
              "      <th>3285</th>\n",
              "      <td>6.0</td>\n",
              "      <td>2019-03-25</td>\n",
              "      <td>2019-12-26</td>\n",
              "      <td>7100.0</td>\n",
              "      <td>33.8852</td>\n",
              "      <td>2019-03-29</td>\n",
              "      <td>4.0</td>\n",
              "      <td>7221.51</td>\n",
              "      <td>7100.0</td>\n",
              "      <td>0.00</td>\n",
              "      <td>0.0</td>\n",
              "      <td>0.0</td>\n",
              "      <td>None</td>\n",
              "      <td>0.0</td>\n",
              "    </tr>\n",
              "  </tbody>\n",
              "</table>\n",
              "</div>"
            ],
            "text/plain": [
              "       id desembolso vencimento  ...  transacionado  subsegmento    y\n",
              "3281  6.0 2019-03-25 2019-12-26  ...          664.0         None  0.0\n",
              "3282  6.0 2019-03-25 2019-12-26  ...            0.0         None  0.0\n",
              "3283  6.0 2019-03-25 2019-12-26  ...          150.0         None  0.0\n",
              "3284  6.0 2019-03-25 2019-12-26  ...            0.0         None  0.0\n",
              "3285  6.0 2019-03-25 2019-12-26  ...            0.0         None  0.0\n",
              "\n",
              "[5 rows x 14 columns]"
            ]
          },
          "metadata": {
            "tags": []
          },
          "execution_count": 86
        }
      ]
    },
    {
      "cell_type": "markdown",
      "metadata": {
        "id": "xOqMn5DTTKGI"
      },
      "source": [
        "Como queremos prever se a probabilidade do cliente não pagar o empréstimo no dia 90 do contrato, vamos usar apenas os dados até 90 dias após o desembolso. E para separar nossos dados em treino e teste vamos utilizar a data do desembolso do crédito já que, caso o modelo esteja com uma boa performance, podemos aplicá-lo para os próximos clientes que fizerem empréstimo."
      ]
    },
    {
      "cell_type": "code",
      "metadata": {
        "id": "nGQ0JbbeUm9h"
      },
      "source": [
        "train_raw = dataset[ (dataset['desembolso'] <= '2020-04-15') & (dataset['dias_pos_desembolso'] <= 90)]\n",
        "test_raw = dataset[ (dataset['desembolso'] > '2020-04-15') & (dataset['dias_pos_desembolso'] <= 90)]"
      ],
      "execution_count": 87,
      "outputs": []
    },
    {
      "cell_type": "markdown",
      "metadata": {
        "id": "_3KAy0OnikXc"
      },
      "source": [
        "Vamos utilizar os clientes que fizeram um empréstimos até o dia 15 de abril de 2020 para treinar o modelo, todos que tem data de desembolso após a esta, usaremos para testar nosso modelo. \n",
        "\n",
        "Para uma abordagem futura, serie bastante interessante verificar o quanto manter dados amsi antigos degradam o modelo, e assim, decidir qual seria a data de desembolso mais antiga que deveria ser incluida no modelo.\n",
        "\n"
      ]
    },
    {
      "cell_type": "markdown",
      "metadata": {
        "id": "_J4MbBNoPSQe"
      },
      "source": [
        "## Análise Exploratória"
      ]
    },
    {
      "cell_type": "markdown",
      "metadata": {
        "id": "5jPw1sLcQgNX"
      },
      "source": [
        "### Os dados estão balanceados?"
      ]
    },
    {
      "cell_type": "code",
      "metadata": {
        "colab": {
          "base_uri": "https://localhost:8080/"
        },
        "id": "tN-DmPPCVkiH",
        "outputId": "a69fc037-db70-4efc-bee9-8b5cbe6f1ad9"
      },
      "source": [
        "train_raw.groupby(['id'])['y'].mean().value_counts()"
      ],
      "execution_count": 88,
      "outputs": [
        {
          "output_type": "execute_result",
          "data": {
            "text/plain": [
              "0.0    11359\n",
              "1.0      754\n",
              "Name: y, dtype: int64"
            ]
          },
          "metadata": {
            "tags": []
          },
          "execution_count": 88
        }
      ]
    },
    {
      "cell_type": "code",
      "metadata": {
        "colab": {
          "base_uri": "https://localhost:8080/"
        },
        "id": "hLjjSR5hWGVe",
        "outputId": "d69a7851-f62e-4428-a842-7cac0adb090f"
      },
      "source": [
        "train_raw.groupby(['id'])['y'].mean().value_counts(normalize=True)"
      ],
      "execution_count": 89,
      "outputs": [
        {
          "output_type": "execute_result",
          "data": {
            "text/plain": [
              "0.0    0.937753\n",
              "1.0    0.062247\n",
              "Name: y, dtype: float64"
            ]
          },
          "metadata": {
            "tags": []
          },
          "execution_count": 89
        }
      ]
    },
    {
      "cell_type": "markdown",
      "metadata": {
        "id": "voVTQFgunHfS"
      },
      "source": [
        "Os dados não estáo balanceados, temos muito mais clientes que quitam sua dívida. E, será necessário uma abordagem que lide com isso. "
      ]
    },
    {
      "cell_type": "markdown",
      "metadata": {
        "id": "_J5JP7VVQge-"
      },
      "source": [
        "### Existem clientes que quitaram o empréstimo antes dos primeiros 90 dias de contrato?"
      ]
    },
    {
      "cell_type": "code",
      "metadata": {
        "id": "0N1vPxiEWQm3"
      },
      "source": [
        "df =  train_raw.groupby(['id','y']).agg({\n",
        "        'valor_emprestado':'first',\n",
        "        'divida_total':'last'\n",
        "    }).sort_values(by='divida_total')\n"
      ],
      "execution_count": 90,
      "outputs": []
    },
    {
      "cell_type": "code",
      "metadata": {
        "colab": {
          "base_uri": "https://localhost:8080/",
          "height": 355
        },
        "id": "2Oiu4CzHnR6e",
        "outputId": "babc4c6f-af10-474d-9c9c-0617ae66cdbf"
      },
      "source": [
        "fig, ax = plt.subplots(figsize=(15,5))\n",
        "sns.histplot(df['divida_total']/df['valor_emprestado'])\n",
        "\n",
        "plt.title('Porcentagem da dívida no último dia de informação em relação ao valor emprestado')\n",
        "plt.xlabel('dívida total / valor emprestado')\n",
        "plt.show()"
      ],
      "execution_count": 91,
      "outputs": [
        {
          "output_type": "display_data",
          "data": {
            "image/png": "[encoded data removed]",
            "text/plain": [
              "<Figure size 1080x360 with 1 Axes>"
            ]
          },
          "metadata": {
            "tags": []
          }
        }
      ]
    },
    {
      "cell_type": "markdown",
      "metadata": {
        "id": "Hul5JaSnoHNm"
      },
      "source": [
        "Podemos observar que mesmo durante os primeiros 90 dias de contrato, já temos clientes que quitaram toda a dívida ou boa parte dela."
      ]
    },
    {
      "cell_type": "code",
      "metadata": {
        "colab": {
          "base_uri": "https://localhost:8080/",
          "height": 235
        },
        "id": "1SJ4MgUsY4vP",
        "outputId": "71cb64b9-806d-43f5-ab4f-1ac448993f47"
      },
      "source": [
        "df = train_raw.groupby(['id', 'y','desembolso']).agg({\n",
        "    'dias_pos_desembolso':'max',\n",
        "    'valor_emprestado':'first',\n",
        "    'divida_total':'last'\n",
        "}).sort_values(by='desembolso')\n",
        "\n",
        "df.head()"
      ],
      "execution_count": 92,
      "outputs": [
        {
          "output_type": "execute_result",
          "data": {
            "text/html": [
              "<div>\n",
              "<style scoped>\n",
              "    .dataframe tbody tr th:only-of-type {\n",
              "        vertical-align: middle;\n",
              "    }\n",
              "\n",
              "    .dataframe tbody tr th {\n",
              "        vertical-align: top;\n",
              "    }\n",
              "\n",
              "    .dataframe thead th {\n",
              "        text-align: right;\n",
              "    }\n",
              "</style>\n",
              "<table border=\"1\" class=\"dataframe\">\n",
              "  <thead>\n",
              "    <tr style=\"text-align: right;\">\n",
              "      <th></th>\n",
              "      <th></th>\n",
              "      <th></th>\n",
              "      <th>dias_pos_desembolso</th>\n",
              "      <th>valor_emprestado</th>\n",
              "      <th>divida_total</th>\n",
              "    </tr>\n",
              "    <tr>\n",
              "      <th>id</th>\n",
              "      <th>y</th>\n",
              "      <th>desembolso</th>\n",
              "      <th></th>\n",
              "      <th></th>\n",
              "      <th></th>\n",
              "    </tr>\n",
              "  </thead>\n",
              "  <tbody>\n",
              "    <tr>\n",
              "      <th>442.0</th>\n",
              "      <th>0.0</th>\n",
              "      <th>2019-02-28</th>\n",
              "      <td>90.0</td>\n",
              "      <td>10200.0</td>\n",
              "      <td>6823.71</td>\n",
              "    </tr>\n",
              "    <tr>\n",
              "      <th>12.0</th>\n",
              "      <th>0.0</th>\n",
              "      <th>2019-03-06</th>\n",
              "      <td>90.0</td>\n",
              "      <td>7700.0</td>\n",
              "      <td>2879.13</td>\n",
              "    </tr>\n",
              "    <tr>\n",
              "      <th>78.0</th>\n",
              "      <th>0.0</th>\n",
              "      <th>2019-03-08</th>\n",
              "      <td>90.0</td>\n",
              "      <td>5400.0</td>\n",
              "      <td>3307.90</td>\n",
              "    </tr>\n",
              "    <tr>\n",
              "      <th>134.0</th>\n",
              "      <th>1.0</th>\n",
              "      <th>2019-03-11</th>\n",
              "      <td>90.0</td>\n",
              "      <td>9900.0</td>\n",
              "      <td>11248.24</td>\n",
              "    </tr>\n",
              "    <tr>\n",
              "      <th>145.0</th>\n",
              "      <th>0.0</th>\n",
              "      <th>2019-03-11</th>\n",
              "      <td>90.0</td>\n",
              "      <td>12500.0</td>\n",
              "      <td>8445.70</td>\n",
              "    </tr>\n",
              "  </tbody>\n",
              "</table>\n",
              "</div>"
            ],
            "text/plain": [
              "                      dias_pos_desembolso  valor_emprestado  divida_total\n",
              "id    y   desembolso                                                     \n",
              "442.0 0.0 2019-02-28                 90.0           10200.0       6823.71\n",
              "12.0  0.0 2019-03-06                 90.0            7700.0       2879.13\n",
              "78.0  0.0 2019-03-08                 90.0            5400.0       3307.90\n",
              "134.0 1.0 2019-03-11                 90.0            9900.0      11248.24\n",
              "145.0 0.0 2019-03-11                 90.0           12500.0       8445.70"
            ]
          },
          "metadata": {
            "tags": []
          },
          "execution_count": 92
        }
      ]
    },
    {
      "cell_type": "code",
      "metadata": {
        "id": "Ti8ZaeZFZ8EQ"
      },
      "source": [
        "def plot_over_time(col):\n",
        "\n",
        "  to_plot = ( df.assign(per=lambda x: x[col]/x['valor_emprestado'])\n",
        "                .groupby(['dias_pos_desembolso','y'])['per']\n",
        "                .agg(['mean', 'std', 'count'])\n",
        "                .replace(np.nan, 0)\n",
        "                .reset_index(1))\n",
        "\n",
        "  fig, ax = plt.subplots(figsize=(15,5))\n",
        "\n",
        "  sns.lineplot(data=to_plot, x='dias_pos_desembolso', y='mean')\n",
        "  plt.title(f'Média da razão entre {col} e valor emprestado por dias de desembolso')\n",
        "\n",
        "  plt.ylabel(f'Média {col} / valor emprestado')\n",
        "  plt.legend()\n",
        "  plt.show()"
      ],
      "execution_count": 93,
      "outputs": []
    },
    {
      "cell_type": "code",
      "metadata": {
        "colab": {
          "base_uri": "https://localhost:8080/",
          "height": 372
        },
        "id": "gomGU4H1h1nq",
        "outputId": "e03a4185-fe66-4c5d-b1af-2ddd63e1b8cf"
      },
      "source": [
        "plot_over_time('divida_total')"
      ],
      "execution_count": 94,
      "outputs": [
        {
          "output_type": "stream",
          "text": [
            "No handles with labels found to put in legend.\n"
          ],
          "name": "stderr"
        },
        {
          "output_type": "display_data",
          "data": {
            "image/png": "[encoded data removed]",
            "text/plain": [
              "<Figure size 1080x360 with 1 Axes>"
            ]
          },
          "metadata": {
            "tags": []
          }
        }
      ]
    },
    {
      "cell_type": "markdown",
      "metadata": {
        "id": "f3xiCEdap6kn"
      },
      "source": [
        "Nos primeiros dias após o desembolso é esperado que o cliente tenha a divida muito próximo ao valor emprestado, já que ele ainda não teve tempo para pagar, mas conforme os dias após o desembolso se passam, a dívida está diminuindo.\n",
        "\n",
        "Já no pico próximo ao dia 90 do desembolso indica que existem clientes que ainda não quitaram boa parte do empréstimo. O que nos gera algumas dúvidas:\n",
        "\n",
        "- Nesse perído de tempo, o valor emprestado é menor que a divida?\n",
        "\n",
        "- O cliente que não irá quitar o empréstimo está pagando alguma quantia mínima?"
      ]
    },
    {
      "cell_type": "code",
      "metadata": {
        "colab": {
          "base_uri": "https://localhost:8080/"
        },
        "id": "x5cPsQMKsrgY",
        "outputId": "201132ca-59ef-4345-84fd-6d24d1c370f9"
      },
      "source": [
        "((df['divida_total'] - df['valor_emprestado']) / df['valor_emprestado']).describe()"
      ],
      "execution_count": 95,
      "outputs": [
        {
          "output_type": "execute_result",
          "data": {
            "text/plain": [
              "count    12113.000000\n",
              "mean        -0.529397\n",
              "std          0.330130\n",
              "min         -0.999978\n",
              "25%         -0.834798\n",
              "50%         -0.507666\n",
              "75%         -0.289807\n",
              "max          0.317384\n",
              "dtype: float64"
            ]
          },
          "metadata": {
            "tags": []
          },
          "execution_count": 95
        }
      ]
    },
    {
      "cell_type": "markdown",
      "metadata": {
        "id": "jkjFco-EtHcF"
      },
      "source": [
        "No geral, a dívida total está diminuindo. Vamos verificar apenas nos clientes que não quitaram a dívida."
      ]
    },
    {
      "cell_type": "code",
      "metadata": {
        "colab": {
          "base_uri": "https://localhost:8080/"
        },
        "id": "bU9ekqY2mgeB",
        "outputId": "0592eef5-92e0-4574-c585-924f30dad281"
      },
      "source": [
        "df_1 = df.loc[ (slice(None), 1), :]\n",
        "\n",
        "((df_1['divida_total'] - df_1['valor_emprestado']) / df_1['valor_emprestado']).describe()"
      ],
      "execution_count": 96,
      "outputs": [
        {
          "output_type": "execute_result",
          "data": {
            "text/plain": [
              "count    754.000000\n",
              "mean      -0.109343\n",
              "std        0.249904\n",
              "min       -0.979968\n",
              "25%       -0.263578\n",
              "50%       -0.088301\n",
              "75%        0.076424\n",
              "max        0.317380\n",
              "dtype: float64"
            ]
          },
          "metadata": {
            "tags": []
          },
          "execution_count": 96
        }
      ]
    },
    {
      "cell_type": "markdown",
      "metadata": {
        "id": "V2leFyDFt8IS"
      },
      "source": [
        "Dentre os clientes inadimplentes, a dívida também diminui em alguns caso, mas com uma intensidade menor do que  contexto geral."
      ]
    },
    {
      "cell_type": "markdown",
      "metadata": {
        "id": "NusAjVXrnk06"
      },
      "source": [
        "### Qual o pagamento diário médio em relação ao valor emprestado?"
      ]
    },
    {
      "cell_type": "code",
      "metadata": {
        "id": "Ai76CyrSoNAh"
      },
      "source": [
        "df = train_raw.groupby(['id','y']) \\\n",
        "              .agg({\n",
        "                  'pagamento_diario':['sum'],\n",
        "                  'valor_emprestado':'first'})\n",
        "\n",
        "to_plot = pd.DataFrame()\n",
        "\n",
        "to_plot['mean_pgto_diario'] = df['pagamento_diario']['sum'] / df['valor_emprestado']['first']"
      ],
      "execution_count": 97,
      "outputs": []
    },
    {
      "cell_type": "code",
      "metadata": {
        "colab": {
          "base_uri": "https://localhost:8080/",
          "height": 355
        },
        "id": "aI_Yd1p5qDZl",
        "outputId": "85ee53e9-bbe2-43a2-c36d-d395418dd79c"
      },
      "source": [
        "to_plot_0 = to_plot.loc[ (slice(None), 0), : ]\n",
        "\n",
        "fig, ax = plt.subplots(figsize=(15,5))\n",
        "sns.histplot(data=to_plot_0, x='mean_pgto_diario', bins=100, label='Clientes que pagaram o emprestimo (0)')\n",
        "\n",
        "plt.title('Histograma da % de pagamento do valor emprestado (not default)')\n",
        "plt.xlabel('% de pagamento do valor emprestado')\n",
        "plt.legend()\n",
        "plt.show()"
      ],
      "execution_count": 98,
      "outputs": [
        {
          "output_type": "display_data",
          "data": {
            "image/png": "[encoded data removed]",
            "text/plain": [
              "<Figure size 1080x360 with 1 Axes>"
            ]
          },
          "metadata": {
            "tags": []
          }
        }
      ]
    },
    {
      "cell_type": "code",
      "metadata": {
        "colab": {
          "base_uri": "https://localhost:8080/",
          "height": 355
        },
        "id": "vdGViREurw36",
        "outputId": "28cb1400-8fe3-4649-8fa8-49ab4787d30c"
      },
      "source": [
        "to_plot_1 = to_plot.loc[ (slice(None), 1), : ]\n",
        "\n",
        "fig, ax = plt.subplots(figsize=(15,5))\n",
        "sns.histplot(data=to_plot_1, x='mean_pgto_diario', bins=100, label='Clientes que não pagaram o emprestimo (1)')\n",
        "\n",
        "plt.title('Histograma da % de pagamento do valor emprestado (default)')\n",
        "plt.xlabel('% de pagamento do valor emprestado')\n",
        "plt.legend()\n",
        "plt.show()"
      ],
      "execution_count": 99,
      "outputs": [
        {
          "output_type": "display_data",
          "data": {
            "image/png": "[encoded data removed]",
            "text/plain": [
              "<Figure size 1080x360 with 1 Axes>"
            ]
          },
          "metadata": {
            "tags": []
          }
        }
      ]
    },
    {
      "cell_type": "markdown",
      "metadata": {
        "id": "qauh11V_ujBe"
      },
      "source": [
        "O comportamento do pagamento médio dos clientes que não quitaram é bastante diferente e como esperado eles quitam uma parcela pequena da dívida, exceto alguns outiliers que  podemos observar que pagou um valor próximo ao valor emprestado, mas entreou em defaul por não ter pago a divida total com os juros aplicados."
      ]
    },
    {
      "cell_type": "markdown",
      "metadata": {
        "id": "1zS0lHbbQgkW"
      },
      "source": [
        "### Qual a quantidade de clientes inadimplentes ao longo do tempo?"
      ]
    },
    {
      "cell_type": "markdown",
      "metadata": {
        "id": "jKHjhJ3swNEM"
      },
      "source": [
        "Primeiro vamos observar a quantidade de clientes ao longo do tempo."
      ]
    },
    {
      "cell_type": "code",
      "metadata": {
        "colab": {
          "base_uri": "https://localhost:8080/",
          "height": 355
        },
        "id": "bt49Zi5wvCdr",
        "outputId": "f8df2f99-d800-41c0-8db4-b94479a37cd8"
      },
      "source": [
        "df = ( train_raw.groupby(['id','y'])\n",
        "                .agg({'desembolso':'first'})\n",
        "                .assign(count=lambda x: 1)\n",
        "                .groupby('desembolso')\n",
        "                .count())\n",
        "\n",
        "\n",
        "fig, ax = plt.subplots(figsize=(15,5))\n",
        "sns.lineplot(data=df, x='desembolso', y='count')\n",
        "\n",
        "plt.title('Quantidade de emprestimos ao longo do tempo')\n",
        "plt.show()"
      ],
      "execution_count": 100,
      "outputs": [
        {
          "output_type": "display_data",
          "data": {
            "image/png": "[encoded data removed]",
            "text/plain": [
              "<Figure size 1080x360 with 1 Axes>"
            ]
          },
          "metadata": {
            "tags": []
          }
        }
      ]
    },
    {
      "cell_type": "markdown",
      "metadata": {
        "id": "HcvN1YGfwohu"
      },
      "source": [
        "Podemos observar um pico de contratações no início do ano de 2020, e poucas contratação anteiores à agosto de 2019. \n",
        "E como a quantidade de desembolsos ao longo do tempo muda bastante, vamos verificar a porcentagem de default ao longo do tempo."
      ]
    },
    {
      "cell_type": "code",
      "metadata": {
        "colab": {
          "base_uri": "https://localhost:8080/",
          "height": 355
        },
        "id": "GK086pICyTsS",
        "outputId": "fdd3a4bb-866b-47c9-b95d-27f1c3c859fa"
      },
      "source": [
        "df_1 = ( train_raw.groupby(['id','y'])\n",
        "                .agg({'desembolso':'first'})\n",
        "                .assign(count=lambda x: 1)\n",
        "                .loc[ (slice(None), 1), :]\n",
        "                .groupby('desembolso')\n",
        "                .count())\n",
        "\n",
        "df_percent_default = df_1 / df\n",
        "\n",
        "fig, ax = plt.subplots(figsize=(15,5))\n",
        "sns.lineplot(data=df_percent_default, x='desembolso', y='count')\n",
        "plt.axvline(datetime(2019, 9, 1), color='red')\n",
        "\n",
        "plt.title('Porcentamgem de clientes inadimplentes ao longo da data do desembolso')\n",
        "plt.ylabel('% de cliente inadimplentes')\n",
        "plt.show()"
      ],
      "execution_count": 101,
      "outputs": [
        {
          "output_type": "display_data",
          "data": {
            "image/png": "[encoded data removed]",
            "text/plain": [
              "<Figure size 1080x360 with 1 Axes>"
            ]
          },
          "metadata": {
            "tags": []
          }
        }
      ]
    },
    {
      "cell_type": "markdown",
      "metadata": {
        "id": "zGDDLgUjx4O0"
      },
      "source": [
        "Como temos poucos dados antes de agosto de 2019, faz sentido olharmos a porcentagem após este perído, e o dados continuam desbalanceados. "
      ]
    },
    {
      "cell_type": "markdown",
      "metadata": {
        "id": "U0hPRq24Qgq3"
      },
      "source": [
        "### Qual o tempo médio de contrato das duas classes?"
      ]
    },
    {
      "cell_type": "code",
      "metadata": {
        "id": "Uy4n9t70yqQZ"
      },
      "source": [
        "df = train_raw.groupby('id') \\\n",
        "              .agg({'desembolso':'first','vencimento':'first', 'y':'max'})\n",
        "\n",
        "df['tempo_contrato'] = (df['vencimento'] - df['desembolso']).dt.days"
      ],
      "execution_count": 102,
      "outputs": []
    },
    {
      "cell_type": "code",
      "metadata": {
        "colab": {
          "base_uri": "https://localhost:8080/"
        },
        "id": "Dzf0Dvas1SpG",
        "outputId": "c6c898cf-2e22-42ef-966e-32e5260771d2"
      },
      "source": [
        "df['tempo_contrato'][ df['y'] == 0 ].describe()"
      ],
      "execution_count": 103,
      "outputs": [
        {
          "output_type": "execute_result",
          "data": {
            "text/plain": [
              "count    11359.000000\n",
              "mean       286.471256\n",
              "std         47.216762\n",
              "min        251.000000\n",
              "25%        270.000000\n",
              "50%        272.000000\n",
              "75%        273.000000\n",
              "max        548.000000\n",
              "Name: tempo_contrato, dtype: float64"
            ]
          },
          "metadata": {
            "tags": []
          },
          "execution_count": 103
        }
      ]
    },
    {
      "cell_type": "code",
      "metadata": {
        "colab": {
          "base_uri": "https://localhost:8080/"
        },
        "id": "-IDFOeyt1Zzu",
        "outputId": "5f216870-4b8c-424a-f927-7ea5f45855a4"
      },
      "source": [
        "df['tempo_contrato'][ df['y'] == 1 ].describe()"
      ],
      "execution_count": 104,
      "outputs": [
        {
          "output_type": "execute_result",
          "data": {
            "text/plain": [
              "count    754.000000\n",
              "mean     281.251989\n",
              "std       29.020671\n",
              "min      263.000000\n",
              "25%      270.000000\n",
              "50%      271.000000\n",
              "75%      273.000000\n",
              "max      364.000000\n",
              "Name: tempo_contrato, dtype: float64"
            ]
          },
          "metadata": {
            "tags": []
          },
          "execution_count": 104
        }
      ]
    },
    {
      "cell_type": "markdown",
      "metadata": {
        "id": "B5dExtl71qFw"
      },
      "source": [
        "No geral, o tempo de contrato é bem parecido nas duas classes."
      ]
    },
    {
      "cell_type": "markdown",
      "metadata": {
        "id": "9JY_eoc9PPVe"
      },
      "source": [
        "## Feature Engineering"
      ]
    },
    {
      "cell_type": "code",
      "metadata": {
        "id": "hjZADVda11kx"
      },
      "source": [
        "def feature_engineering(raw):\n",
        "\n",
        "  slices = ['0-90','0-30', '30-60', '60-90']\n",
        "\n",
        "  col_names = pd.Series([\n",
        "                'desembolso',\n",
        "                'vencimento',\n",
        "                'valor_emprestado',\n",
        "                'mean_pgto_diario_esperado',\n",
        "                'std_pgto_diario_esperado',\n",
        "                'max_dia',\n",
        "                'max_dias_pos_desembolso',\n",
        "                'last_divida_total',\n",
        "                'mean_divida_total',\n",
        "                'last_divida_principal',\n",
        "                'mean_divida_principal',\n",
        "                'sum_pagamento_diario',\n",
        "                'mean_pagamento_diario',\n",
        "                'std_pagameto_diario',\n",
        "                '%_sem_pagamento_diario',\n",
        "                'mean_amortizacao_principal_diario',\n",
        "                'std_amortizacao_principal_diario',\n",
        "                'sum_transacionado',\n",
        "                'mean_transacionado',\n",
        "                'std_transacionado',\n",
        "                '%_dia_sem_transacao',\n",
        "                'label_y',\n",
        "                'percent_pgto_do_emprest',\n",
        "                'subsegmento'\n",
        "    ])\n",
        "  \n",
        "\n",
        "  all_names = pd.Series([])\n",
        "  index = []\n",
        "\n",
        "  # Colunas que não mudam ao longo do tempo\n",
        "  fixed_col = pd.Series(['desembolso', 'vencimento', 'valor_emprestado', 'label_y'])\n",
        "  cols_to_drop = pd.Series([])\n",
        "  \n",
        "  for sl in slices:\n",
        "\n",
        "    min, max = sl.split('-')\n",
        "    cond = (raw['dias_pos_desembolso'] >= int(min) ) & (raw['dias_pos_desembolso'] <= int(max))\n",
        "    df_raw = raw[ cond ]\n",
        "\n",
        "    new_names = col_names[:24].apply(lambda x: x + '_' + sl)\n",
        "    all_names = pd.concat([all_names, new_names])\n",
        "\n",
        "    df = df_raw.groupby('id').agg({\n",
        "        'desembolso':'first',\n",
        "        'vencimento':'first',\n",
        "        'valor_emprestado':'first',\n",
        "        'pgto_diario_esperado':['mean', 'std'],\n",
        "        'dia':'max',\n",
        "        'dias_pos_desembolso':'max',\n",
        "        'divida_total':['last','mean'],\n",
        "        'divida_principal':['last','mean'],\n",
        "        'pagamento_diario':['sum', 'mean', 'std', lambda x: (x == 0).sum()/x.count()],\n",
        "        'amortizacao_principal_diario':['mean', 'std'],\n",
        "        'transacionado':['sum','mean', 'std', lambda x: (x == 0).sum()/x.count()],\n",
        "        'y':'max'\n",
        "    })\n",
        "\n",
        "    # Agrupa o subsegmento\n",
        "    seg = ( df_raw.replace(np.nan, 'NaN') # Substituindo nan por string para aplicar mode()\n",
        "                  .groupby('id')['subsegmento']\n",
        "                  .apply(lambda x: x.mode())\n",
        "                  .values )\n",
        "    \n",
        "    # df auxiliar para calcular a % de pagamento do emprestimo\n",
        "    df_aux = (df_raw.groupby('id')\n",
        "                    .agg({'pagamento_diario':'sum', 'valor_emprestado':'first'}))\n",
        "\n",
        "\n",
        "    df = (df.assign(percent_pgto_do_emprest=df_aux['pagamento_diario'] / df_aux['valor_emprestado'])\n",
        "            .assign(subsegmento=seg))\n",
        "    \n",
        "\n",
        "    if sl == '0-90':\n",
        "      index = df.index\n",
        "      dfs = df.copy()\n",
        "      \n",
        "    \n",
        "    else: \n",
        "      dfs = pd.concat([dfs, df], axis=1)\n",
        "\n",
        "      col_slice = fixed_col.apply(lambda x: x + '_' + sl )\n",
        "      cols_to_drop = pd.concat([cols_to_drop, col_slice])\n",
        "\n",
        "\n",
        "  dataset = pd.DataFrame(dfs.values, columns=all_names, index=index)\n",
        "\n",
        "  # Quando temos informação de um dia apenas vamos considerar como std = 0\n",
        "  cols_std = dataset.columns[ all_names.apply(lambda x: x[:3]) == 'std' ]\n",
        "  dataset[cols_std] = dataset[cols_std].replace(np.nan, 0)\n",
        "\n",
        "  # dropar columnas iguais (subsegmento, desembolso, vencimento, label)\n",
        "  dataset.drop(columns=cols_to_drop, inplace=True)\n",
        "\n",
        "\n",
        "  return dataset\n",
        "\n"
      ],
      "execution_count": 105,
      "outputs": []
    },
    {
      "cell_type": "code",
      "metadata": {
        "id": "JcWoVMkd9WuD"
      },
      "source": [
        "def preprocessing(df):\n",
        "\n",
        "  X = pd.DataFrame()\n",
        "  y = df.loc[:,'label_y_0-90'].values.astype('int')\n",
        "\n",
        "  df.drop(columns=['label_y_0-90'], inplace=True)\n",
        "\n",
        "  columns_date = df.columns\n",
        "\n",
        "  for col in columns_date:\n",
        "\n",
        "    column = df[col]\n",
        "\n",
        "    if column.dtype == 'datetime64[ns]':\n",
        "\n",
        "      #X['year_' + col] = column.dt.year\n",
        "      X['month_' + col] = column.dt.month\n",
        "      #X['day_' + col] = column.dt.day\n",
        "\n",
        "    elif col in  ['subsegmento_0-90', 'subsegmento_0-30', 'subsegmento_30-60', 'subsegmento_60-90']:\n",
        "      pass\n",
        "    \n",
        "    else:\n",
        "      X[col] = column\n",
        "\n",
        "  X.replace(np.nan, 0, inplace=True)\n",
        "\n",
        "  return X.astype('float'), y"
      ],
      "execution_count": 106,
      "outputs": []
    },
    {
      "cell_type": "code",
      "metadata": {
        "id": "cAAOZ9h5YB1r",
        "colab": {
          "base_uri": "https://localhost:8080/"
        },
        "outputId": "4e8008b2-5563-415e-d88d-9ddd83cb4167"
      },
      "source": [
        "df = feature_engineering(train_raw)\n",
        "X_train, y_train = preprocessing(df)"
      ],
      "execution_count": 107,
      "outputs": [
        {
          "output_type": "stream",
          "text": [
            "The default dtype for empty Series will be 'object' instead of 'float64' in a future version. Specify a dtype explicitly to silence this warning.\n",
            "The default dtype for empty Series will be 'object' instead of 'float64' in a future version. Specify a dtype explicitly to silence this warning.\n"
          ],
          "name": "stderr"
        }
      ]
    },
    {
      "cell_type": "code",
      "metadata": {
        "colab": {
          "base_uri": "https://localhost:8080/"
        },
        "id": "9CcRGX1zAmHI",
        "outputId": "688fc695-e92e-48e0-bdc0-c05bef0fa321"
      },
      "source": [
        "df = feature_engineering(test_raw)\n",
        "X_test, y_test = preprocessing(df)"
      ],
      "execution_count": 108,
      "outputs": [
        {
          "output_type": "stream",
          "text": [
            "The default dtype for empty Series will be 'object' instead of 'float64' in a future version. Specify a dtype explicitly to silence this warning.\n",
            "The default dtype for empty Series will be 'object' instead of 'float64' in a future version. Specify a dtype explicitly to silence this warning.\n"
          ],
          "name": "stderr"
        }
      ]
    },
    {
      "cell_type": "markdown",
      "metadata": {
        "id": "jg_Zil5JQOUe"
      },
      "source": [
        "## Melhor modelo"
      ]
    },
    {
      "cell_type": "markdown",
      "metadata": {
        "id": "Q10seCIR22Po"
      },
      "source": [
        "Para escolher o melhor modelo, utilizaremos uma validação cruzada com a separação dos folds estratificada, ou seja, mantendo a distribuição das classes nos dados na separação dos dados.\n",
        "\n",
        "Testaremos os seguintes modelos:\n",
        "\n",
        "- Logistic Regression\n",
        "- Random Forest\n",
        "- XGBoost"
      ]
    },
    {
      "cell_type": "code",
      "metadata": {
        "id": "x_-OG437ZIUj"
      },
      "source": [
        "results_auc = pd.DataFrame()\n",
        "results_recall = pd.DataFrame()"
      ],
      "execution_count": 109,
      "outputs": []
    },
    {
      "cell_type": "code",
      "metadata": {
        "colab": {
          "base_uri": "https://localhost:8080/"
        },
        "id": "-5VorhRfZWOD",
        "outputId": "5754f63b-c484-4d76-bdfc-a8b226d93c20"
      },
      "source": [
        "scaled_pos_weight = (y_train == 0).sum() / (y_train == 1).sum()\n",
        "\n",
        "pipe_LR_cv = Pipeline([('Scaler', StandardScaler()),\n",
        "                       ('Logistic Regression', LogisticRegression(class_weight='balanced'))])\n",
        "\n",
        "models = [\n",
        "          ('Logistic Regression', pipe_LR_cv),\n",
        "          ('Random Forest', RandomForestClassifier(class_weight='balanced')),\n",
        "          ('XGBoost', XGBClassifier(scaled_pos_weight=scaled_pos_weight))\n",
        "          ]\n",
        "\n",
        "for name, model in models:\n",
        "\n",
        "  kfold = StratifiedKFold(n_splits=10, random_state=31, shuffle=True)\n",
        "\n",
        "  results_auc[name] = cross_val_score(model, X_train, y_train, cv=kfold, scoring='roc_auc', verbose=0)\n",
        "  results_recall[name] = cross_val_score(model, X_train, y_train, cv=kfold, scoring='recall', verbose=0)"
      ],
      "execution_count": 110,
      "outputs": [
        {
          "output_type": "stream",
          "text": [
            "lbfgs failed to converge (status=1):\n",
            "STOP: TOTAL NO. of ITERATIONS REACHED LIMIT.\n",
            "\n",
            "Increase the number of iterations (max_iter) or scale the data as shown in:\n",
            "    https://scikit-learn.org/stable/modules/preprocessing.html\n",
            "Please also refer to the documentation for alternative solver options:\n",
            "    https://scikit-learn.org/stable/modules/linear_model.html#logistic-regression\n",
            "lbfgs failed to converge (status=1):\n",
            "STOP: TOTAL NO. of ITERATIONS REACHED LIMIT.\n",
            "\n",
            "Increase the number of iterations (max_iter) or scale the data as shown in:\n",
            "    https://scikit-learn.org/stable/modules/preprocessing.html\n",
            "Please also refer to the documentation for alternative solver options:\n",
            "    https://scikit-learn.org/stable/modules/linear_model.html#logistic-regression\n",
            "lbfgs failed to converge (status=1):\n",
            "STOP: TOTAL NO. of ITERATIONS REACHED LIMIT.\n",
            "\n",
            "Increase the number of iterations (max_iter) or scale the data as shown in:\n",
            "    https://scikit-learn.org/stable/modules/preprocessing.html\n",
            "Please also refer to the documentation for alternative solver options:\n",
            "    https://scikit-learn.org/stable/modules/linear_model.html#logistic-regression\n",
            "lbfgs failed to converge (status=1):\n",
            "STOP: TOTAL NO. of ITERATIONS REACHED LIMIT.\n",
            "\n",
            "Increase the number of iterations (max_iter) or scale the data as shown in:\n",
            "    https://scikit-learn.org/stable/modules/preprocessing.html\n",
            "Please also refer to the documentation for alternative solver options:\n",
            "    https://scikit-learn.org/stable/modules/linear_model.html#logistic-regression\n",
            "lbfgs failed to converge (status=1):\n",
            "STOP: TOTAL NO. of ITERATIONS REACHED LIMIT.\n",
            "\n",
            "Increase the number of iterations (max_iter) or scale the data as shown in:\n",
            "    https://scikit-learn.org/stable/modules/preprocessing.html\n",
            "Please also refer to the documentation for alternative solver options:\n",
            "    https://scikit-learn.org/stable/modules/linear_model.html#logistic-regression\n",
            "lbfgs failed to converge (status=1):\n",
            "STOP: TOTAL NO. of ITERATIONS REACHED LIMIT.\n",
            "\n",
            "Increase the number of iterations (max_iter) or scale the data as shown in:\n",
            "    https://scikit-learn.org/stable/modules/preprocessing.html\n",
            "Please also refer to the documentation for alternative solver options:\n",
            "    https://scikit-learn.org/stable/modules/linear_model.html#logistic-regression\n",
            "lbfgs failed to converge (status=1):\n",
            "STOP: TOTAL NO. of ITERATIONS REACHED LIMIT.\n",
            "\n",
            "Increase the number of iterations (max_iter) or scale the data as shown in:\n",
            "    https://scikit-learn.org/stable/modules/preprocessing.html\n",
            "Please also refer to the documentation for alternative solver options:\n",
            "    https://scikit-learn.org/stable/modules/linear_model.html#logistic-regression\n",
            "lbfgs failed to converge (status=1):\n",
            "STOP: TOTAL NO. of ITERATIONS REACHED LIMIT.\n",
            "\n",
            "Increase the number of iterations (max_iter) or scale the data as shown in:\n",
            "    https://scikit-learn.org/stable/modules/preprocessing.html\n",
            "Please also refer to the documentation for alternative solver options:\n",
            "    https://scikit-learn.org/stable/modules/linear_model.html#logistic-regression\n",
            "lbfgs failed to converge (status=1):\n",
            "STOP: TOTAL NO. of ITERATIONS REACHED LIMIT.\n",
            "\n",
            "Increase the number of iterations (max_iter) or scale the data as shown in:\n",
            "    https://scikit-learn.org/stable/modules/preprocessing.html\n",
            "Please also refer to the documentation for alternative solver options:\n",
            "    https://scikit-learn.org/stable/modules/linear_model.html#logistic-regression\n",
            "lbfgs failed to converge (status=1):\n",
            "STOP: TOTAL NO. of ITERATIONS REACHED LIMIT.\n",
            "\n",
            "Increase the number of iterations (max_iter) or scale the data as shown in:\n",
            "    https://scikit-learn.org/stable/modules/preprocessing.html\n",
            "Please also refer to the documentation for alternative solver options:\n",
            "    https://scikit-learn.org/stable/modules/linear_model.html#logistic-regression\n",
            "lbfgs failed to converge (status=1):\n",
            "STOP: TOTAL NO. of ITERATIONS REACHED LIMIT.\n",
            "\n",
            "Increase the number of iterations (max_iter) or scale the data as shown in:\n",
            "    https://scikit-learn.org/stable/modules/preprocessing.html\n",
            "Please also refer to the documentation for alternative solver options:\n",
            "    https://scikit-learn.org/stable/modules/linear_model.html#logistic-regression\n",
            "lbfgs failed to converge (status=1):\n",
            "STOP: TOTAL NO. of ITERATIONS REACHED LIMIT.\n",
            "\n",
            "Increase the number of iterations (max_iter) or scale the data as shown in:\n",
            "    https://scikit-learn.org/stable/modules/preprocessing.html\n",
            "Please also refer to the documentation for alternative solver options:\n",
            "    https://scikit-learn.org/stable/modules/linear_model.html#logistic-regression\n",
            "lbfgs failed to converge (status=1):\n",
            "STOP: TOTAL NO. of ITERATIONS REACHED LIMIT.\n",
            "\n",
            "Increase the number of iterations (max_iter) or scale the data as shown in:\n",
            "    https://scikit-learn.org/stable/modules/preprocessing.html\n",
            "Please also refer to the documentation for alternative solver options:\n",
            "    https://scikit-learn.org/stable/modules/linear_model.html#logistic-regression\n",
            "lbfgs failed to converge (status=1):\n",
            "STOP: TOTAL NO. of ITERATIONS REACHED LIMIT.\n",
            "\n",
            "Increase the number of iterations (max_iter) or scale the data as shown in:\n",
            "    https://scikit-learn.org/stable/modules/preprocessing.html\n",
            "Please also refer to the documentation for alternative solver options:\n",
            "    https://scikit-learn.org/stable/modules/linear_model.html#logistic-regression\n",
            "lbfgs failed to converge (status=1):\n",
            "STOP: TOTAL NO. of ITERATIONS REACHED LIMIT.\n",
            "\n",
            "Increase the number of iterations (max_iter) or scale the data as shown in:\n",
            "    https://scikit-learn.org/stable/modules/preprocessing.html\n",
            "Please also refer to the documentation for alternative solver options:\n",
            "    https://scikit-learn.org/stable/modules/linear_model.html#logistic-regression\n",
            "lbfgs failed to converge (status=1):\n",
            "STOP: TOTAL NO. of ITERATIONS REACHED LIMIT.\n",
            "\n",
            "Increase the number of iterations (max_iter) or scale the data as shown in:\n",
            "    https://scikit-learn.org/stable/modules/preprocessing.html\n",
            "Please also refer to the documentation for alternative solver options:\n",
            "    https://scikit-learn.org/stable/modules/linear_model.html#logistic-regression\n",
            "lbfgs failed to converge (status=1):\n",
            "STOP: TOTAL NO. of ITERATIONS REACHED LIMIT.\n",
            "\n",
            "Increase the number of iterations (max_iter) or scale the data as shown in:\n",
            "    https://scikit-learn.org/stable/modules/preprocessing.html\n",
            "Please also refer to the documentation for alternative solver options:\n",
            "    https://scikit-learn.org/stable/modules/linear_model.html#logistic-regression\n",
            "lbfgs failed to converge (status=1):\n",
            "STOP: TOTAL NO. of ITERATIONS REACHED LIMIT.\n",
            "\n",
            "Increase the number of iterations (max_iter) or scale the data as shown in:\n",
            "    https://scikit-learn.org/stable/modules/preprocessing.html\n",
            "Please also refer to the documentation for alternative solver options:\n",
            "    https://scikit-learn.org/stable/modules/linear_model.html#logistic-regression\n",
            "lbfgs failed to converge (status=1):\n",
            "STOP: TOTAL NO. of ITERATIONS REACHED LIMIT.\n",
            "\n",
            "Increase the number of iterations (max_iter) or scale the data as shown in:\n",
            "    https://scikit-learn.org/stable/modules/preprocessing.html\n",
            "Please also refer to the documentation for alternative solver options:\n",
            "    https://scikit-learn.org/stable/modules/linear_model.html#logistic-regression\n",
            "lbfgs failed to converge (status=1):\n",
            "STOP: TOTAL NO. of ITERATIONS REACHED LIMIT.\n",
            "\n",
            "Increase the number of iterations (max_iter) or scale the data as shown in:\n",
            "    https://scikit-learn.org/stable/modules/preprocessing.html\n",
            "Please also refer to the documentation for alternative solver options:\n",
            "    https://scikit-learn.org/stable/modules/linear_model.html#logistic-regression\n"
          ],
          "name": "stderr"
        }
      ]
    },
    {
      "cell_type": "code",
      "metadata": {
        "id": "H_X8WdV3ZWTy",
        "colab": {
          "base_uri": "https://localhost:8080/",
          "height": 297
        },
        "outputId": "9d861c17-b9ca-4a58-9382-5249ab79bb26"
      },
      "source": [
        "results_auc.describe()"
      ],
      "execution_count": 111,
      "outputs": [
        {
          "output_type": "execute_result",
          "data": {
            "text/html": [
              "<div>\n",
              "<style scoped>\n",
              "    .dataframe tbody tr th:only-of-type {\n",
              "        vertical-align: middle;\n",
              "    }\n",
              "\n",
              "    .dataframe tbody tr th {\n",
              "        vertical-align: top;\n",
              "    }\n",
              "\n",
              "    .dataframe thead th {\n",
              "        text-align: right;\n",
              "    }\n",
              "</style>\n",
              "<table border=\"1\" class=\"dataframe\">\n",
              "  <thead>\n",
              "    <tr style=\"text-align: right;\">\n",
              "      <th></th>\n",
              "      <th>Logistic Regression</th>\n",
              "      <th>Random Forest</th>\n",
              "      <th>XGBoost</th>\n",
              "    </tr>\n",
              "  </thead>\n",
              "  <tbody>\n",
              "    <tr>\n",
              "      <th>count</th>\n",
              "      <td>10.000000</td>\n",
              "      <td>10.000000</td>\n",
              "      <td>10.000000</td>\n",
              "    </tr>\n",
              "    <tr>\n",
              "      <th>mean</th>\n",
              "      <td>0.895731</td>\n",
              "      <td>0.875713</td>\n",
              "      <td>0.896334</td>\n",
              "    </tr>\n",
              "    <tr>\n",
              "      <th>std</th>\n",
              "      <td>0.017525</td>\n",
              "      <td>0.023776</td>\n",
              "      <td>0.012633</td>\n",
              "    </tr>\n",
              "    <tr>\n",
              "      <th>min</th>\n",
              "      <td>0.851279</td>\n",
              "      <td>0.831661</td>\n",
              "      <td>0.870153</td>\n",
              "    </tr>\n",
              "    <tr>\n",
              "      <th>25%</th>\n",
              "      <td>0.896482</td>\n",
              "      <td>0.865153</td>\n",
              "      <td>0.889733</td>\n",
              "    </tr>\n",
              "    <tr>\n",
              "      <th>50%</th>\n",
              "      <td>0.901319</td>\n",
              "      <td>0.882604</td>\n",
              "      <td>0.902613</td>\n",
              "    </tr>\n",
              "    <tr>\n",
              "      <th>75%</th>\n",
              "      <td>0.905044</td>\n",
              "      <td>0.893327</td>\n",
              "      <td>0.903923</td>\n",
              "    </tr>\n",
              "    <tr>\n",
              "      <th>max</th>\n",
              "      <td>0.910270</td>\n",
              "      <td>0.899489</td>\n",
              "      <td>0.908845</td>\n",
              "    </tr>\n",
              "  </tbody>\n",
              "</table>\n",
              "</div>"
            ],
            "text/plain": [
              "       Logistic Regression  Random Forest    XGBoost\n",
              "count            10.000000      10.000000  10.000000\n",
              "mean              0.895731       0.875713   0.896334\n",
              "std               0.017525       0.023776   0.012633\n",
              "min               0.851279       0.831661   0.870153\n",
              "25%               0.896482       0.865153   0.889733\n",
              "50%               0.901319       0.882604   0.902613\n",
              "75%               0.905044       0.893327   0.903923\n",
              "max               0.910270       0.899489   0.908845"
            ]
          },
          "metadata": {
            "tags": []
          },
          "execution_count": 111
        }
      ]
    },
    {
      "cell_type": "code",
      "metadata": {
        "colab": {
          "base_uri": "https://localhost:8080/",
          "height": 392
        },
        "id": "0_JXOCAguqtp",
        "outputId": "9364690f-6fab-4050-fc57-92b5823d5c1c"
      },
      "source": [
        "fig, axes = plt.subplots(3, 1, figsize=(15, 5), sharey=True, sharex=True)\n",
        "fig.suptitle('Boxplot do AUC dos modelos')\n",
        "\n",
        "sns.boxplot(ax=axes[0], x=results_auc['Logistic Regression'])\n",
        "sns.boxplot(ax=axes[1], x=results_auc['Random Forest'])\n",
        "sns.boxplot(ax=axes[2], x=results_auc['XGBoost'])\n"
      ],
      "execution_count": 112,
      "outputs": [
        {
          "output_type": "execute_result",
          "data": {
            "text/plain": [
              "<matplotlib.axes._subplots.AxesSubplot at 0x7f4c1b7e2c50>"
            ]
          },
          "metadata": {
            "tags": []
          },
          "execution_count": 112
        },
        {
          "output_type": "display_data",
          "data": {
            "image/png": "[encoded data removed]",
            "text/plain": [
              "<Figure size 1080x360 with 3 Axes>"
            ]
          },
          "metadata": {
            "tags": []
          }
        }
      ]
    },
    {
      "cell_type": "code",
      "metadata": {
        "id": "KdIuOPn4ZWWW",
        "colab": {
          "base_uri": "https://localhost:8080/",
          "height": 297
        },
        "outputId": "0a8050c3-8f76-4007-d2c1-2016edb44122"
      },
      "source": [
        "results_recall.describe()"
      ],
      "execution_count": 113,
      "outputs": [
        {
          "output_type": "execute_result",
          "data": {
            "text/html": [
              "<div>\n",
              "<style scoped>\n",
              "    .dataframe tbody tr th:only-of-type {\n",
              "        vertical-align: middle;\n",
              "    }\n",
              "\n",
              "    .dataframe tbody tr th {\n",
              "        vertical-align: top;\n",
              "    }\n",
              "\n",
              "    .dataframe thead th {\n",
              "        text-align: right;\n",
              "    }\n",
              "</style>\n",
              "<table border=\"1\" class=\"dataframe\">\n",
              "  <thead>\n",
              "    <tr style=\"text-align: right;\">\n",
              "      <th></th>\n",
              "      <th>Logistic Regression</th>\n",
              "      <th>Random Forest</th>\n",
              "      <th>XGBoost</th>\n",
              "    </tr>\n",
              "  </thead>\n",
              "  <tbody>\n",
              "    <tr>\n",
              "      <th>count</th>\n",
              "      <td>10.000000</td>\n",
              "      <td>10.000000</td>\n",
              "      <td>10.000000</td>\n",
              "    </tr>\n",
              "    <tr>\n",
              "      <th>mean</th>\n",
              "      <td>0.808860</td>\n",
              "      <td>0.173702</td>\n",
              "      <td>0.183000</td>\n",
              "    </tr>\n",
              "    <tr>\n",
              "      <th>std</th>\n",
              "      <td>0.048911</td>\n",
              "      <td>0.032023</td>\n",
              "      <td>0.035201</td>\n",
              "    </tr>\n",
              "    <tr>\n",
              "      <th>min</th>\n",
              "      <td>0.706667</td>\n",
              "      <td>0.120000</td>\n",
              "      <td>0.120000</td>\n",
              "    </tr>\n",
              "    <tr>\n",
              "      <th>25%</th>\n",
              "      <td>0.793333</td>\n",
              "      <td>0.158421</td>\n",
              "      <td>0.171053</td>\n",
              "    </tr>\n",
              "    <tr>\n",
              "      <th>50%</th>\n",
              "      <td>0.821228</td>\n",
              "      <td>0.178772</td>\n",
              "      <td>0.178772</td>\n",
              "    </tr>\n",
              "    <tr>\n",
              "      <th>75%</th>\n",
              "      <td>0.842105</td>\n",
              "      <td>0.194079</td>\n",
              "      <td>0.200000</td>\n",
              "    </tr>\n",
              "    <tr>\n",
              "      <th>max</th>\n",
              "      <td>0.855263</td>\n",
              "      <td>0.226667</td>\n",
              "      <td>0.240000</td>\n",
              "    </tr>\n",
              "  </tbody>\n",
              "</table>\n",
              "</div>"
            ],
            "text/plain": [
              "       Logistic Regression  Random Forest    XGBoost\n",
              "count            10.000000      10.000000  10.000000\n",
              "mean              0.808860       0.173702   0.183000\n",
              "std               0.048911       0.032023   0.035201\n",
              "min               0.706667       0.120000   0.120000\n",
              "25%               0.793333       0.158421   0.171053\n",
              "50%               0.821228       0.178772   0.178772\n",
              "75%               0.842105       0.194079   0.200000\n",
              "max               0.855263       0.226667   0.240000"
            ]
          },
          "metadata": {
            "tags": []
          },
          "execution_count": 113
        }
      ]
    },
    {
      "cell_type": "code",
      "metadata": {
        "id": "ipqaSFU1h0Lt",
        "colab": {
          "base_uri": "https://localhost:8080/",
          "height": 392
        },
        "outputId": "9ff6e80c-1e40-459e-9024-93531642c8fa"
      },
      "source": [
        "fig, axes = plt.subplots(3, 1, figsize=(15, 5), sharey=True, sharex=True)\n",
        "fig.suptitle('Boxplot do recall dos modelos')\n",
        "\n",
        "sns.boxplot(ax=axes[0], x=results_recall['Logistic Regression'])\n",
        "sns.boxplot(ax=axes[1], x=results_recall['Random Forest'])\n",
        "sns.boxplot(ax=axes[2], x=results_recall['XGBoost'])"
      ],
      "execution_count": 114,
      "outputs": [
        {
          "output_type": "execute_result",
          "data": {
            "text/plain": [
              "<matplotlib.axes._subplots.AxesSubplot at 0x7f4c0e91ca50>"
            ]
          },
          "metadata": {
            "tags": []
          },
          "execution_count": 114
        },
        {
          "output_type": "display_data",
          "data": {
            "image/png": "[encoded data removed]",
            "text/plain": [
              "<Figure size 1080x360 with 3 Axes>"
            ]
          },
          "metadata": {
            "tags": []
          }
        }
      ]
    },
    {
      "cell_type": "markdown",
      "metadata": {
        "id": "na88LNCa5Kw3"
      },
      "source": [
        "A regressão logistica teve resultados muito bons, tanto para AUC que o geral teve bons resultados, quanto para o recall, e a escolheremos como modelo para o nosso objetivo."
      ]
    },
    {
      "cell_type": "code",
      "metadata": {
        "colab": {
          "base_uri": "https://localhost:8080/"
        },
        "id": "qea-P6Wg9doH",
        "outputId": "5a54e0d3-fe08-40b3-8d53-8e3bf844c89c"
      },
      "source": [
        "pipe_LR_cv.fit(X_train, y_train)\n",
        "\n",
        "y_pred = pipe_LR_cv.predict(X_test)\n",
        "y_prob = pipe_LR_cv.predict_proba(X_test)[:,1]\n",
        "\n",
        "print('Logistic Regression\\n')\n",
        "print('ROC_AUC prob ', roc_auc_score(y_test, y_prob))\n",
        "print('ROC_AUC pred ', roc_auc_score(y_test, y_pred))\n",
        "print('Recall ', recall_score(y_test, y_pred))"
      ],
      "execution_count": 115,
      "outputs": [
        {
          "output_type": "stream",
          "text": [
            "Logistic Regression\n",
            "\n",
            "ROC_AUC prob  0.968509542977628\n",
            "ROC_AUC pred  0.8083942605219201\n",
            "Recall  0.6428571428571429\n"
          ],
          "name": "stdout"
        },
        {
          "output_type": "stream",
          "text": [
            "lbfgs failed to converge (status=1):\n",
            "STOP: TOTAL NO. of ITERATIONS REACHED LIMIT.\n",
            "\n",
            "Increase the number of iterations (max_iter) or scale the data as shown in:\n",
            "    https://scikit-learn.org/stable/modules/preprocessing.html\n",
            "Please also refer to the documentation for alternative solver options:\n",
            "    https://scikit-learn.org/stable/modules/linear_model.html#logistic-regression\n"
          ],
          "name": "stderr"
        }
      ]
    },
    {
      "cell_type": "markdown",
      "metadata": {
        "id": "VGFPGKvLjtn7"
      },
      "source": [
        "\n",
        "\n",
        "> Os modelos foram testados com um balanceamento no peso das classes, e para passos futuros poderiamos testar alguns métodos para lidar com dados desbalanceados, como undersampling ou oversampling. "
      ]
    },
    {
      "cell_type": "markdown",
      "metadata": {
        "id": "bcYfA5ANPPbw"
      },
      "source": [
        "## Feature selection"
      ]
    },
    {
      "cell_type": "markdown",
      "metadata": {
        "id": "0PyGzh6459p_"
      },
      "source": [
        "Selecionar as melhores features pode diminuir a complexidade do modelo, e impede que ele degrade ao longo do tempo."
      ]
    },
    {
      "cell_type": "code",
      "metadata": {
        "colab": {
          "base_uri": "https://localhost:8080/"
        },
        "id": "dMI9b_sotxSc",
        "outputId": "0140f2ca-91fa-43fd-8d46-7a01dffae206"
      },
      "source": [
        "pipe_LR_fs = Pipeline([('Scaler', StandardScaler()),\n",
        "                       ('Logistic Regression', LogisticRegression(class_weight='balanced'))])\n",
        "\n",
        "pipe_LR_fs.fit(X_train, y_train)\n",
        "\n",
        "importance = pd.DataFrame({\n",
        "    'Features':X_train.columns,\n",
        "    'Coefs':pipe_LR_fs['Logistic Regression'].coef_[0]}).sort_values(by='Coefs', ascending=False)"
      ],
      "execution_count": 116,
      "outputs": [
        {
          "output_type": "stream",
          "text": [
            "lbfgs failed to converge (status=1):\n",
            "STOP: TOTAL NO. of ITERATIONS REACHED LIMIT.\n",
            "\n",
            "Increase the number of iterations (max_iter) or scale the data as shown in:\n",
            "    https://scikit-learn.org/stable/modules/preprocessing.html\n",
            "Please also refer to the documentation for alternative solver options:\n",
            "    https://scikit-learn.org/stable/modules/linear_model.html#logistic-regression\n"
          ],
          "name": "stderr"
        }
      ]
    },
    {
      "cell_type": "markdown",
      "metadata": {
        "id": "eOx49gdM6veJ"
      },
      "source": [
        "Vamos verificar quais variáveis são menos importantes para o modelo, retiralas e testar o modelo para verificar se a performance se manteve."
      ]
    },
    {
      "cell_type": "code",
      "metadata": {
        "colab": {
          "base_uri": "https://localhost:8080/",
          "height": 173
        },
        "id": "G8hGf34e6XvH",
        "outputId": "bddb67ff-833b-497c-f4c1-b3d58f5c2f6e"
      },
      "source": [
        "tolerance = 2e-2\n",
        "importance[ np.abs(importance['Coefs']) <= tolerance ]"
      ],
      "execution_count": 117,
      "outputs": [
        {
          "output_type": "execute_result",
          "data": {
            "text/html": [
              "<div>\n",
              "<style scoped>\n",
              "    .dataframe tbody tr th:only-of-type {\n",
              "        vertical-align: middle;\n",
              "    }\n",
              "\n",
              "    .dataframe tbody tr th {\n",
              "        vertical-align: top;\n",
              "    }\n",
              "\n",
              "    .dataframe thead th {\n",
              "        text-align: right;\n",
              "    }\n",
              "</style>\n",
              "<table border=\"1\" class=\"dataframe\">\n",
              "  <thead>\n",
              "    <tr style=\"text-align: right;\">\n",
              "      <th></th>\n",
              "      <th>Features</th>\n",
              "      <th>Coefs</th>\n",
              "    </tr>\n",
              "  </thead>\n",
              "  <tbody>\n",
              "    <tr>\n",
              "      <th>49</th>\n",
              "      <td>sum_pagamento_diario_30-60</td>\n",
              "      <td>0.006504</td>\n",
              "    </tr>\n",
              "    <tr>\n",
              "      <th>61</th>\n",
              "      <td>std_pgto_diario_esperado_60-90</td>\n",
              "      <td>0.000000</td>\n",
              "    </tr>\n",
              "    <tr>\n",
              "      <th>42</th>\n",
              "      <td>std_pgto_diario_esperado_30-60</td>\n",
              "      <td>0.000000</td>\n",
              "    </tr>\n",
              "    <tr>\n",
              "      <th>16</th>\n",
              "      <td>std_amortizacao_principal_diario_0-90</td>\n",
              "      <td>-0.010451</td>\n",
              "    </tr>\n",
              "  </tbody>\n",
              "</table>\n",
              "</div>"
            ],
            "text/plain": [
              "                                 Features     Coefs\n",
              "49             sum_pagamento_diario_30-60  0.006504\n",
              "61         std_pgto_diario_esperado_60-90  0.000000\n",
              "42         std_pgto_diario_esperado_30-60  0.000000\n",
              "16  std_amortizacao_principal_diario_0-90 -0.010451"
            ]
          },
          "metadata": {
            "tags": []
          },
          "execution_count": 117
        }
      ]
    },
    {
      "cell_type": "code",
      "metadata": {
        "colab": {
          "base_uri": "https://localhost:8080/",
          "height": 419
        },
        "id": "U48oJRxBRWSS",
        "outputId": "59429df0-d3c5-4a07-8f97-48c4333210dd"
      },
      "source": [
        "importance[ np.abs(importance['Coefs']) >= tolerance ]"
      ],
      "execution_count": 118,
      "outputs": [
        {
          "output_type": "execute_result",
          "data": {
            "text/html": [
              "<div>\n",
              "<style scoped>\n",
              "    .dataframe tbody tr th:only-of-type {\n",
              "        vertical-align: middle;\n",
              "    }\n",
              "\n",
              "    .dataframe tbody tr th {\n",
              "        vertical-align: top;\n",
              "    }\n",
              "\n",
              "    .dataframe thead th {\n",
              "        text-align: right;\n",
              "    }\n",
              "</style>\n",
              "<table border=\"1\" class=\"dataframe\">\n",
              "  <thead>\n",
              "    <tr style=\"text-align: right;\">\n",
              "      <th></th>\n",
              "      <th>Features</th>\n",
              "      <th>Coefs</th>\n",
              "    </tr>\n",
              "  </thead>\n",
              "  <tbody>\n",
              "    <tr>\n",
              "      <th>6</th>\n",
              "      <td>max_dias_pos_desembolso_0-90</td>\n",
              "      <td>2.372431</td>\n",
              "    </tr>\n",
              "    <tr>\n",
              "      <th>14</th>\n",
              "      <td>%_sem_pagamento_diario_0-90</td>\n",
              "      <td>1.566358</td>\n",
              "    </tr>\n",
              "    <tr>\n",
              "      <th>23</th>\n",
              "      <td>std_pgto_diario_esperado_0-30</td>\n",
              "      <td>1.535408</td>\n",
              "    </tr>\n",
              "    <tr>\n",
              "      <th>66</th>\n",
              "      <td>last_divida_principal_60-90</td>\n",
              "      <td>1.438143</td>\n",
              "    </tr>\n",
              "    <tr>\n",
              "      <th>4</th>\n",
              "      <td>std_pgto_diario_esperado_0-90</td>\n",
              "      <td>1.256012</td>\n",
              "    </tr>\n",
              "    <tr>\n",
              "      <th>...</th>\n",
              "      <td>...</td>\n",
              "      <td>...</td>\n",
              "    </tr>\n",
              "    <tr>\n",
              "      <th>51</th>\n",
              "      <td>std_pagameto_diario_30-60</td>\n",
              "      <td>-0.974924</td>\n",
              "    </tr>\n",
              "    <tr>\n",
              "      <th>58</th>\n",
              "      <td>%_dia_sem_transacao_30-60</td>\n",
              "      <td>-1.080772</td>\n",
              "    </tr>\n",
              "    <tr>\n",
              "      <th>8</th>\n",
              "      <td>mean_divida_total_0-90</td>\n",
              "      <td>-1.249287</td>\n",
              "    </tr>\n",
              "    <tr>\n",
              "      <th>65</th>\n",
              "      <td>mean_divida_total_60-90</td>\n",
              "      <td>-1.265035</td>\n",
              "    </tr>\n",
              "    <tr>\n",
              "      <th>21</th>\n",
              "      <td>percent_pgto_do_emprest_0-90</td>\n",
              "      <td>-2.625449</td>\n",
              "    </tr>\n",
              "  </tbody>\n",
              "</table>\n",
              "<p>75 rows × 2 columns</p>\n",
              "</div>"
            ],
            "text/plain": [
              "                         Features     Coefs\n",
              "6    max_dias_pos_desembolso_0-90  2.372431\n",
              "14    %_sem_pagamento_diario_0-90  1.566358\n",
              "23  std_pgto_diario_esperado_0-30  1.535408\n",
              "66    last_divida_principal_60-90  1.438143\n",
              "4   std_pgto_diario_esperado_0-90  1.256012\n",
              "..                            ...       ...\n",
              "51      std_pagameto_diario_30-60 -0.974924\n",
              "58      %_dia_sem_transacao_30-60 -1.080772\n",
              "8          mean_divida_total_0-90 -1.249287\n",
              "65        mean_divida_total_60-90 -1.265035\n",
              "21   percent_pgto_do_emprest_0-90 -2.625449\n",
              "\n",
              "[75 rows x 2 columns]"
            ]
          },
          "metadata": {
            "tags": []
          },
          "execution_count": 118
        }
      ]
    },
    {
      "cell_type": "markdown",
      "metadata": {
        "id": "BOxAVoa6EezJ"
      },
      "source": [
        "Logo, as variáveis mais importantes são:"
      ]
    },
    {
      "cell_type": "code",
      "metadata": {
        "colab": {
          "base_uri": "https://localhost:8080/"
        },
        "id": "n32idiZ48d3X",
        "outputId": "cbbdff56-d813-4155-92fd-5d1247c6d802"
      },
      "source": [
        "important_features = importance[ np.abs( importance['Coefs'] ) >= tolerance ]['Features'].values\n",
        "important_features"
      ],
      "execution_count": 119,
      "outputs": [
        {
          "output_type": "execute_result",
          "data": {
            "text/plain": [
              "array(['max_dias_pos_desembolso_0-90', '%_sem_pagamento_diario_0-90',\n",
              "       'std_pgto_diario_esperado_0-30', 'last_divida_principal_60-90',\n",
              "       'std_pgto_diario_esperado_0-90', '%_dia_sem_transacao_0-90',\n",
              "       'std_pagameto_diario_0-30', 'max_dias_pos_desembolso_0-30',\n",
              "       'percent_pgto_do_emprest_0-30',\n",
              "       'std_amortizacao_principal_diario_60-90',\n",
              "       'mean_amortizacao_principal_diario_0-90',\n",
              "       'sum_pagamento_diario_60-90', 'percent_pgto_do_emprest_30-60',\n",
              "       '%_dia_sem_transacao_60-90', 'std_pagameto_diario_0-90',\n",
              "       'month_desembolso_0-90', 'last_divida_total_60-90',\n",
              "       'mean_pgto_diario_esperado_30-60',\n",
              "       'mean_pgto_diario_esperado_0-90', 'mean_pgto_diario_esperado_0-30',\n",
              "       'std_transacionado_30-60', 'sum_transacionado_0-30',\n",
              "       'sum_transacionado_60-90',\n",
              "       'std_amortizacao_principal_diario_30-60',\n",
              "       'max_dias_pos_desembolso_30-60', 'mean_transacionado_0-30',\n",
              "       'sum_transacionado_30-60', 'last_divida_principal_0-90',\n",
              "       'mean_amortizacao_principal_diario_30-60',\n",
              "       'last_divida_principal_0-30', 'std_transacionado_60-90',\n",
              "       'valor_emprestado_0-90', 'percent_pgto_do_emprest_60-90',\n",
              "       'mean_pagamento_diario_0-90', 'last_divida_principal_30-60',\n",
              "       'mean_divida_principal_30-60', 'month_max_dia_30-60',\n",
              "       'mean_transacionado_30-60', 'max_dias_pos_desembolso_60-90',\n",
              "       'month_max_dia_0-90', 'std_transacionado_0-30',\n",
              "       'mean_pgto_diario_esperado_60-90',\n",
              "       'mean_amortizacao_principal_diario_0-30', 'month_max_dia_0-30',\n",
              "       'last_divida_total_0-30', 'month_vencimento_0-90',\n",
              "       'mean_divida_principal_60-90', 'sum_transacionado_0-90',\n",
              "       'month_max_dia_60-90', '%_sem_pagamento_diario_30-60',\n",
              "       'sum_pagamento_diario_0-90', 'mean_divida_total_30-60',\n",
              "       '%_sem_pagamento_diario_0-30', 'mean_pagamento_diario_30-60',\n",
              "       'sum_pagamento_diario_0-30', 'mean_divida_principal_0-30',\n",
              "       'mean_pagamento_diario_60-90', 'mean_transacionado_60-90',\n",
              "       'mean_pagamento_diario_0-30', 'last_divida_total_30-60',\n",
              "       'mean_amortizacao_principal_diario_60-90',\n",
              "       'std_transacionado_0-90', 'last_divida_total_0-90',\n",
              "       'mean_divida_principal_0-90', 'mean_divida_total_0-30',\n",
              "       '%_dia_sem_transacao_0-30', 'std_pagameto_diario_60-90',\n",
              "       'std_amortizacao_principal_diario_0-30', 'mean_transacionado_0-90',\n",
              "       '%_sem_pagamento_diario_60-90', 'std_pagameto_diario_30-60',\n",
              "       '%_dia_sem_transacao_30-60', 'mean_divida_total_0-90',\n",
              "       'mean_divida_total_60-90', 'percent_pgto_do_emprest_0-90'],\n",
              "      dtype=object)"
            ]
          },
          "metadata": {
            "tags": []
          },
          "execution_count": 119
        }
      ]
    },
    {
      "cell_type": "code",
      "metadata": {
        "colab": {
          "base_uri": "https://localhost:8080/"
        },
        "id": "smmGV9MoTK_6",
        "outputId": "e72ce398-458a-42b3-c18d-5e331f86889e"
      },
      "source": [
        "pipe_LR = Pipeline([('Scaler', StandardScaler()),\n",
        "                    ('Logistic Regression', LogisticRegression(class_weight='balanced'))])\n",
        "\n",
        "pipe_LR.fit(X_train[important_features], y_train)\n",
        "\n",
        "y_pred = pipe_LR.predict(X_test[important_features])\n",
        "y_prob = pipe_LR.predict_proba(X_test[important_features])[:,1]\n",
        "\n",
        "print('Logistic Regression\\n')\n",
        "print('ROC_AUC prob ', roc_auc_score(y_test, y_prob))\n",
        "print('ROC_AUC pred ', roc_auc_score(y_test, y_pred))\n",
        "print('Recall ', recall_score(y_test, y_pred), '\\n')"
      ],
      "execution_count": 120,
      "outputs": [
        {
          "output_type": "stream",
          "text": [
            "Logistic Regression\n",
            "\n",
            "ROC_AUC prob  0.9688518305539582\n",
            "ROC_AUC pred  0.8072441742654508\n",
            "Recall  0.6428571428571429 \n",
            "\n"
          ],
          "name": "stdout"
        },
        {
          "output_type": "stream",
          "text": [
            "lbfgs failed to converge (status=1):\n",
            "STOP: TOTAL NO. of ITERATIONS REACHED LIMIT.\n",
            "\n",
            "Increase the number of iterations (max_iter) or scale the data as shown in:\n",
            "    https://scikit-learn.org/stable/modules/preprocessing.html\n",
            "Please also refer to the documentation for alternative solver options:\n",
            "    https://scikit-learn.org/stable/modules/linear_model.html#logistic-regression\n"
          ],
          "name": "stderr"
        }
      ]
    },
    {
      "cell_type": "markdown",
      "metadata": {
        "id": "yJnej82IADFd"
      },
      "source": [
        "Como a performance não diminuiu, não usaremos as variáveis que tiveram os piores resultados para o modelo."
      ]
    },
    {
      "cell_type": "markdown",
      "metadata": {
        "id": "P0pIFdBaPPfY"
      },
      "source": [
        "## Tuning"
      ]
    },
    {
      "cell_type": "markdown",
      "metadata": {
        "id": "8e1ZlvBzAIQK"
      },
      "source": [
        "Agora vamos encontrar os parâmetros que retornam o melhor resultado.\n",
        "\n",
        "Testaremos:\n",
        "\n",
        "- Os parâmetro de regularização (penalty) L1 e L2, Ridge e Lasso, respectivamente.\n",
        "- E, alguns valores para a regularização inversa C.\n",
        "\n",
        "Para evitar que o modelo se ajuste muito aos dados de treino (overfitting)."
      ]
    },
    {
      "cell_type": "code",
      "metadata": {
        "colab": {
          "base_uri": "https://localhost:8080/"
        },
        "id": "eTE_wPifKzeJ",
        "outputId": "8c5165b9-9881-4be1-d8a2-820ded93a0bd"
      },
      "source": [
        "pipe_LR_tuning = Pipeline([('Scaler', StandardScaler()),\n",
        "                           ('LR', LogisticRegression())])\n",
        "\n",
        "param_grid = {\n",
        "    'LR__penalty': ['l1', 'l2'],\n",
        "    'LR__C':[0.001,0.01,0.1,1,10,100], # Testar valor menores\n",
        "    'LR__class_weight':['balanced']\n",
        "    }\n",
        "\n",
        "grid = RandomizedSearchCV(pipe_LR_tuning, param_distributions=param_grid, scoring = 'roc_auc')\n",
        "grid.fit(X_train[important_features], y_train)\n",
        "\n",
        "y_pred = grid.predict(X_test[important_features])\n",
        "y_prob = grid.predict_proba(X_test[important_features])[:,1]\n",
        "\n",
        "print('\\nLogistic Regression balanced \\n')\n",
        "print('ROC_AUC prob ', roc_auc_score(y_test, y_prob))\n",
        "print('ROC_AUC pred ', roc_auc_score(y_test, y_pred))\n",
        "print('Recall ', recall_score(y_test, y_pred),'\\n')\n",
        "print('Parâmetros com melhores resultados: \\n', grid.best_params_)"
      ],
      "execution_count": 121,
      "outputs": [
        {
          "output_type": "stream",
          "text": [
            "lbfgs failed to converge (status=1):\n",
            "STOP: TOTAL NO. of ITERATIONS REACHED LIMIT.\n",
            "\n",
            "Increase the number of iterations (max_iter) or scale the data as shown in:\n",
            "    https://scikit-learn.org/stable/modules/preprocessing.html\n",
            "Please also refer to the documentation for alternative solver options:\n",
            "    https://scikit-learn.org/stable/modules/linear_model.html#logistic-regression\n",
            "lbfgs failed to converge (status=1):\n",
            "STOP: TOTAL NO. of ITERATIONS REACHED LIMIT.\n",
            "\n",
            "Increase the number of iterations (max_iter) or scale the data as shown in:\n",
            "    https://scikit-learn.org/stable/modules/preprocessing.html\n",
            "Please also refer to the documentation for alternative solver options:\n",
            "    https://scikit-learn.org/stable/modules/linear_model.html#logistic-regression\n",
            "lbfgs failed to converge (status=1):\n",
            "STOP: TOTAL NO. of ITERATIONS REACHED LIMIT.\n",
            "\n",
            "Increase the number of iterations (max_iter) or scale the data as shown in:\n",
            "    https://scikit-learn.org/stable/modules/preprocessing.html\n",
            "Please also refer to the documentation for alternative solver options:\n",
            "    https://scikit-learn.org/stable/modules/linear_model.html#logistic-regression\n",
            "lbfgs failed to converge (status=1):\n",
            "STOP: TOTAL NO. of ITERATIONS REACHED LIMIT.\n",
            "\n",
            "Increase the number of iterations (max_iter) or scale the data as shown in:\n",
            "    https://scikit-learn.org/stable/modules/preprocessing.html\n",
            "Please also refer to the documentation for alternative solver options:\n",
            "    https://scikit-learn.org/stable/modules/linear_model.html#logistic-regression\n",
            "lbfgs failed to converge (status=1):\n",
            "STOP: TOTAL NO. of ITERATIONS REACHED LIMIT.\n",
            "\n",
            "Increase the number of iterations (max_iter) or scale the data as shown in:\n",
            "    https://scikit-learn.org/stable/modules/preprocessing.html\n",
            "Please also refer to the documentation for alternative solver options:\n",
            "    https://scikit-learn.org/stable/modules/linear_model.html#logistic-regression\n",
            "Estimator fit failed. The score on this train-test partition for these parameters will be set to nan. Details: \n",
            "ValueError: Solver lbfgs supports only 'l2' or 'none' penalties, got l1 penalty.\n",
            "\n",
            "Estimator fit failed. The score on this train-test partition for these parameters will be set to nan. Details: \n",
            "ValueError: Solver lbfgs supports only 'l2' or 'none' penalties, got l1 penalty.\n",
            "\n",
            "Estimator fit failed. The score on this train-test partition for these parameters will be set to nan. Details: \n",
            "ValueError: Solver lbfgs supports only 'l2' or 'none' penalties, got l1 penalty.\n",
            "\n",
            "Estimator fit failed. The score on this train-test partition for these parameters will be set to nan. Details: \n",
            "ValueError: Solver lbfgs supports only 'l2' or 'none' penalties, got l1 penalty.\n",
            "\n",
            "Estimator fit failed. The score on this train-test partition for these parameters will be set to nan. Details: \n",
            "ValueError: Solver lbfgs supports only 'l2' or 'none' penalties, got l1 penalty.\n",
            "\n",
            "lbfgs failed to converge (status=1):\n",
            "STOP: TOTAL NO. of ITERATIONS REACHED LIMIT.\n",
            "\n",
            "Increase the number of iterations (max_iter) or scale the data as shown in:\n",
            "    https://scikit-learn.org/stable/modules/preprocessing.html\n",
            "Please also refer to the documentation for alternative solver options:\n",
            "    https://scikit-learn.org/stable/modules/linear_model.html#logistic-regression\n",
            "lbfgs failed to converge (status=1):\n",
            "STOP: TOTAL NO. of ITERATIONS REACHED LIMIT.\n",
            "\n",
            "Increase the number of iterations (max_iter) or scale the data as shown in:\n",
            "    https://scikit-learn.org/stable/modules/preprocessing.html\n",
            "Please also refer to the documentation for alternative solver options:\n",
            "    https://scikit-learn.org/stable/modules/linear_model.html#logistic-regression\n",
            "lbfgs failed to converge (status=1):\n",
            "STOP: TOTAL NO. of ITERATIONS REACHED LIMIT.\n",
            "\n",
            "Increase the number of iterations (max_iter) or scale the data as shown in:\n",
            "    https://scikit-learn.org/stable/modules/preprocessing.html\n",
            "Please also refer to the documentation for alternative solver options:\n",
            "    https://scikit-learn.org/stable/modules/linear_model.html#logistic-regression\n",
            "lbfgs failed to converge (status=1):\n",
            "STOP: TOTAL NO. of ITERATIONS REACHED LIMIT.\n",
            "\n",
            "Increase the number of iterations (max_iter) or scale the data as shown in:\n",
            "    https://scikit-learn.org/stable/modules/preprocessing.html\n",
            "Please also refer to the documentation for alternative solver options:\n",
            "    https://scikit-learn.org/stable/modules/linear_model.html#logistic-regression\n",
            "lbfgs failed to converge (status=1):\n",
            "STOP: TOTAL NO. of ITERATIONS REACHED LIMIT.\n",
            "\n",
            "Increase the number of iterations (max_iter) or scale the data as shown in:\n",
            "    https://scikit-learn.org/stable/modules/preprocessing.html\n",
            "Please also refer to the documentation for alternative solver options:\n",
            "    https://scikit-learn.org/stable/modules/linear_model.html#logistic-regression\n",
            "Estimator fit failed. The score on this train-test partition for these parameters will be set to nan. Details: \n",
            "ValueError: Solver lbfgs supports only 'l2' or 'none' penalties, got l1 penalty.\n",
            "\n",
            "Estimator fit failed. The score on this train-test partition for these parameters will be set to nan. Details: \n",
            "ValueError: Solver lbfgs supports only 'l2' or 'none' penalties, got l1 penalty.\n",
            "\n",
            "Estimator fit failed. The score on this train-test partition for these parameters will be set to nan. Details: \n",
            "ValueError: Solver lbfgs supports only 'l2' or 'none' penalties, got l1 penalty.\n",
            "\n",
            "Estimator fit failed. The score on this train-test partition for these parameters will be set to nan. Details: \n",
            "ValueError: Solver lbfgs supports only 'l2' or 'none' penalties, got l1 penalty.\n",
            "\n",
            "Estimator fit failed. The score on this train-test partition for these parameters will be set to nan. Details: \n",
            "ValueError: Solver lbfgs supports only 'l2' or 'none' penalties, got l1 penalty.\n",
            "\n",
            "lbfgs failed to converge (status=1):\n",
            "STOP: TOTAL NO. of ITERATIONS REACHED LIMIT.\n",
            "\n",
            "Increase the number of iterations (max_iter) or scale the data as shown in:\n",
            "    https://scikit-learn.org/stable/modules/preprocessing.html\n",
            "Please also refer to the documentation for alternative solver options:\n",
            "    https://scikit-learn.org/stable/modules/linear_model.html#logistic-regression\n",
            "lbfgs failed to converge (status=1):\n",
            "STOP: TOTAL NO. of ITERATIONS REACHED LIMIT.\n",
            "\n",
            "Increase the number of iterations (max_iter) or scale the data as shown in:\n",
            "    https://scikit-learn.org/stable/modules/preprocessing.html\n",
            "Please also refer to the documentation for alternative solver options:\n",
            "    https://scikit-learn.org/stable/modules/linear_model.html#logistic-regression\n",
            "lbfgs failed to converge (status=1):\n",
            "STOP: TOTAL NO. of ITERATIONS REACHED LIMIT.\n",
            "\n",
            "Increase the number of iterations (max_iter) or scale the data as shown in:\n",
            "    https://scikit-learn.org/stable/modules/preprocessing.html\n",
            "Please also refer to the documentation for alternative solver options:\n",
            "    https://scikit-learn.org/stable/modules/linear_model.html#logistic-regression\n",
            "lbfgs failed to converge (status=1):\n",
            "STOP: TOTAL NO. of ITERATIONS REACHED LIMIT.\n",
            "\n",
            "Increase the number of iterations (max_iter) or scale the data as shown in:\n",
            "    https://scikit-learn.org/stable/modules/preprocessing.html\n",
            "Please also refer to the documentation for alternative solver options:\n",
            "    https://scikit-learn.org/stable/modules/linear_model.html#logistic-regression\n",
            "lbfgs failed to converge (status=1):\n",
            "STOP: TOTAL NO. of ITERATIONS REACHED LIMIT.\n",
            "\n",
            "Increase the number of iterations (max_iter) or scale the data as shown in:\n",
            "    https://scikit-learn.org/stable/modules/preprocessing.html\n",
            "Please also refer to the documentation for alternative solver options:\n",
            "    https://scikit-learn.org/stable/modules/linear_model.html#logistic-regression\n",
            "Estimator fit failed. The score on this train-test partition for these parameters will be set to nan. Details: \n",
            "ValueError: Solver lbfgs supports only 'l2' or 'none' penalties, got l1 penalty.\n",
            "\n",
            "Estimator fit failed. The score on this train-test partition for these parameters will be set to nan. Details: \n",
            "ValueError: Solver lbfgs supports only 'l2' or 'none' penalties, got l1 penalty.\n",
            "\n",
            "Estimator fit failed. The score on this train-test partition for these parameters will be set to nan. Details: \n",
            "ValueError: Solver lbfgs supports only 'l2' or 'none' penalties, got l1 penalty.\n",
            "\n",
            "Estimator fit failed. The score on this train-test partition for these parameters will be set to nan. Details: \n",
            "ValueError: Solver lbfgs supports only 'l2' or 'none' penalties, got l1 penalty.\n",
            "\n",
            "Estimator fit failed. The score on this train-test partition for these parameters will be set to nan. Details: \n",
            "ValueError: Solver lbfgs supports only 'l2' or 'none' penalties, got l1 penalty.\n",
            "\n",
            "Estimator fit failed. The score on this train-test partition for these parameters will be set to nan. Details: \n",
            "ValueError: Solver lbfgs supports only 'l2' or 'none' penalties, got l1 penalty.\n",
            "\n",
            "Estimator fit failed. The score on this train-test partition for these parameters will be set to nan. Details: \n",
            "ValueError: Solver lbfgs supports only 'l2' or 'none' penalties, got l1 penalty.\n",
            "\n",
            "Estimator fit failed. The score on this train-test partition for these parameters will be set to nan. Details: \n",
            "ValueError: Solver lbfgs supports only 'l2' or 'none' penalties, got l1 penalty.\n",
            "\n",
            "Estimator fit failed. The score on this train-test partition for these parameters will be set to nan. Details: \n",
            "ValueError: Solver lbfgs supports only 'l2' or 'none' penalties, got l1 penalty.\n",
            "\n",
            "Estimator fit failed. The score on this train-test partition for these parameters will be set to nan. Details: \n",
            "ValueError: Solver lbfgs supports only 'l2' or 'none' penalties, got l1 penalty.\n",
            "\n",
            "Estimator fit failed. The score on this train-test partition for these parameters will be set to nan. Details: \n",
            "ValueError: Solver lbfgs supports only 'l2' or 'none' penalties, got l1 penalty.\n",
            "\n"
          ],
          "name": "stderr"
        },
        {
          "output_type": "stream",
          "text": [
            "\n",
            "Logistic Regression balanced \n",
            "\n",
            "ROC_AUC prob  0.9452339877871793\n",
            "ROC_AUC pred  0.8044305703880172\n",
            "Recall  0.7142857142857143 \n",
            "\n",
            "Parâmetros com melhores resultados: \n",
            " {'LR__penalty': 'l2', 'LR__class_weight': 'balanced', 'LR__C': 0.001}\n"
          ],
          "name": "stdout"
        },
        {
          "output_type": "stream",
          "text": [
            "Estimator fit failed. The score on this train-test partition for these parameters will be set to nan. Details: \n",
            "ValueError: Solver lbfgs supports only 'l2' or 'none' penalties, got l1 penalty.\n",
            "\n",
            "Estimator fit failed. The score on this train-test partition for these parameters will be set to nan. Details: \n",
            "ValueError: Solver lbfgs supports only 'l2' or 'none' penalties, got l1 penalty.\n",
            "\n",
            "Estimator fit failed. The score on this train-test partition for these parameters will be set to nan. Details: \n",
            "ValueError: Solver lbfgs supports only 'l2' or 'none' penalties, got l1 penalty.\n",
            "\n",
            "Estimator fit failed. The score on this train-test partition for these parameters will be set to nan. Details: \n",
            "ValueError: Solver lbfgs supports only 'l2' or 'none' penalties, got l1 penalty.\n",
            "\n"
          ],
          "name": "stderr"
        }
      ]
    },
    {
      "cell_type": "markdown",
      "metadata": {
        "id": "LKMfe7y0FY_Y"
      },
      "source": [
        "Tivemos bons resultados para a AUC quando estamos observando a probabilidade estimada. Vamos então encontrar a melhor linha de decisão para escolher a classe com base na probabilidade de default."
      ]
    },
    {
      "cell_type": "code",
      "metadata": {
        "colab": {
          "base_uri": "https://localhost:8080/",
          "height": 355
        },
        "id": "4pqmTSc3rFB2",
        "outputId": "a2e28ea8-b895-454a-ba48-cfd04dff333c"
      },
      "source": [
        "threshold = np.linspace(0,1,100)\n",
        "\n",
        "n = len(threshold)\n",
        "\n",
        "result_recall = np.zeros(n)\n",
        "result_auc = np.zeros(n)\n",
        "\n",
        "for i, t in enumerate(threshold):\n",
        "  y_pred_t = ( y_prob > t ).astype('int')\n",
        "  result_auc[i] = roc_auc_score(y_test, y_pred_t)\n",
        "  result_recall[i] = recall_score(y_test, y_pred_t)\n",
        "\n",
        "\n",
        "fig, ax = plt.subplots(figsize=(15,5))\n",
        "sns.lineplot(x=threshold, y=result_auc, label='ROC_AUC')\n",
        "sns.lineplot(x=threshold, y=result_recall, label='recall')\n",
        "\n",
        "plt.title('Performance com diferentes threshold')\n",
        "plt.ylabel('performance')\n",
        "plt.xlabel('threshold')\n",
        "\n",
        "plt.legend()\n",
        "plt.show()"
      ],
      "execution_count": 122,
      "outputs": [
        {
          "output_type": "display_data",
          "data": {
            "image/png": "[encoded data removed]",
            "text/plain": [
              "<Figure size 1080x360 with 1 Axes>"
            ]
          },
          "metadata": {
            "tags": []
          }
        }
      ]
    },
    {
      "cell_type": "markdown",
      "metadata": {
        "id": "-DC43e5DG6MI"
      },
      "source": [
        "Podemos observar que o maior recall ocorre no mesmo threshold em que o AUC tem um dos melhores resultados. Vamos verificar se com esse threshold temos resultados melhor do que com o valor valor predito do sklearn."
      ]
    },
    {
      "cell_type": "code",
      "metadata": {
        "colab": {
          "base_uri": "https://localhost:8080/"
        },
        "id": "hPxRzu8UHfe-",
        "outputId": "f1ad9ff7-3430-47ec-a643-09d135788a6e"
      },
      "source": [
        "best_threshold = threshold[ np.argmax(result_auc) ]\n",
        "best_threshold"
      ],
      "execution_count": 123,
      "outputs": [
        {
          "output_type": "execute_result",
          "data": {
            "text/plain": [
              "0.4141414141414142"
            ]
          },
          "metadata": {
            "tags": []
          },
          "execution_count": 123
        }
      ]
    },
    {
      "cell_type": "code",
      "metadata": {
        "colab": {
          "base_uri": "https://localhost:8080/"
        },
        "id": "sIxNoqb_FJcp",
        "outputId": "3a4d8b90-024d-4aca-90ee-97005736ba66"
      },
      "source": [
        "y_pred_threshold = ( y_prob > best_threshold ).astype('int')\n",
        "\n",
        "print('AUC pred threshold', roc_auc_score(y_test, y_pred_threshold))\n",
        "print('Recall pred threshold', recall_score(y_test, y_pred_threshold))\n",
        "\n",
        "print('\\nAUC pred ', roc_auc_score(y_test, y_pred))\n",
        "print('Recall pred ', recall_score(y_test, y_pred))"
      ],
      "execution_count": 124,
      "outputs": [
        {
          "output_type": "stream",
          "text": [
            "AUC pred threshold 0.9170979490128427\n",
            "Recall pred threshold 1.0\n",
            "\n",
            "AUC pred  0.8044305703880172\n",
            "Recall pred  0.7142857142857143\n"
          ],
          "name": "stdout"
        }
      ]
    },
    {
      "cell_type": "markdown",
      "metadata": {
        "id": "cp3UjUpFItxA"
      },
      "source": [
        "Ou seja, dado uma estimativa para a probabilidade de default, definimos como default clientes com probabilidade maior que 41% de default, já que a AUC e o recall melhoraram."
      ]
    },
    {
      "cell_type": "markdown",
      "metadata": {
        "id": "H0gnyclaPPiU"
      },
      "source": [
        "## Conclusões"
      ]
    },
    {
      "cell_type": "markdown",
      "metadata": {
        "id": "-OUBPQciQQ5z"
      },
      "source": [
        "Obtivemos excelentes resultados para estimar a probabilidade de que o cliente não quite sua dívida. O modelo de regressão logistica foi o que nos resultou a melhor performance. O desvio padrão do pagamento esperado em alguns intervalos de tempo não teve importância no modelo e foi retirado para diminuir a complexidade e para que o modelo não degrade ao longo do tempo. Já a porcentagem de dias sem transação entro o dia 30 e o dia 90 do contrato, e a porcentagem de pagamento do empresntimo até o dia 90 do contrato foram variáveis que tiveram bastante importância para a classificação."
      ]
    },
    {
      "cell_type": "markdown",
      "metadata": {
        "id": "KSblBcoGRquh"
      },
      "source": [
        "## Submission"
      ]
    },
    {
      "cell_type": "markdown",
      "metadata": {
        "id": "wznY1ZQvI94a"
      },
      "source": [
        "Para o a entrega final, utilizaremos o modelo de Regressão Logistica com os melhores resultados."
      ]
    },
    {
      "cell_type": "code",
      "metadata": {
        "id": "pc1hJXvm46tz",
        "colab": {
          "base_uri": "https://localhost:8080/"
        },
        "outputId": "697e16b1-47b9-40b9-ad11-00507c2ffe84"
      },
      "source": [
        "dataset_submission = pd.read_parquet(train_path)\n",
        "df_submission = feature_engineering(dataset_submission)\n",
        "X_sub, y_sub = preprocessing(df_submission)"
      ],
      "execution_count": 125,
      "outputs": [
        {
          "output_type": "stream",
          "text": [
            "The default dtype for empty Series will be 'object' instead of 'float64' in a future version. Specify a dtype explicitly to silence this warning.\n",
            "The default dtype for empty Series will be 'object' instead of 'float64' in a future version. Specify a dtype explicitly to silence this warning.\n"
          ],
          "name": "stderr"
        }
      ]
    },
    {
      "cell_type": "markdown",
      "metadata": {
        "id": "tqMzHHi5c4ZO"
      },
      "source": [
        "O modelo será retreinado nos dados completos para obter uma previsão dos dados mais recentes."
      ]
    },
    {
      "cell_type": "code",
      "metadata": {
        "id": "v9MymQTKSdaU",
        "colab": {
          "base_uri": "https://localhost:8080/"
        },
        "outputId": "118fdb56-56e7-448a-f2e9-0460b8132d40"
      },
      "source": [
        "df_train = feature_engineering(dataset)\n",
        "X, y = preprocessing(df_train)"
      ],
      "execution_count": 126,
      "outputs": [
        {
          "output_type": "stream",
          "text": [
            "The default dtype for empty Series will be 'object' instead of 'float64' in a future version. Specify a dtype explicitly to silence this warning.\n",
            "The default dtype for empty Series will be 'object' instead of 'float64' in a future version. Specify a dtype explicitly to silence this warning.\n"
          ],
          "name": "stderr"
        }
      ]
    },
    {
      "cell_type": "code",
      "metadata": {
        "id": "BwdZ7JrjSSwz"
      },
      "source": [
        "pipeline_linreg = Pipeline([('Scaler', StandardScaler()),\n",
        "                            ('Logistic Regression', LogisticRegression(penalty='l2', class_weight='balaced', C=0.001))])\n",
        "\n",
        "pipeline_linreg.fit(X[important_features], y)\n",
        "\n",
        "y_prob = pipeline_linreg.predict_proba(X_sub[important_features])[:,1]\n",
        "y_pred = (y_prob > best_threshold).astype('int')"
      ],
      "execution_count": 127,
      "outputs": []
    },
    {
      "cell_type": "code",
      "metadata": {
        "id": "U7QvMxbPS-0q"
      },
      "source": [
        "submission = pd.DataFrame({\n",
        "    'id':X.index,\n",
        "    'ypred':y_pred,\n",
        "    'yprob':y_prob\n",
        "})\n",
        "\n",
        "#submission\n",
        "submission.to_csv('submission.parquet', index=False)"
      ],
      "execution_count": 128,
      "outputs": []
    }
  ]
}